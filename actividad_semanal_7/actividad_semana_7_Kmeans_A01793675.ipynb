{
 "cells": [
  {
   "cell_type": "markdown",
   "metadata": {},
   "source": [
    "# Actividad Semanal -- 7 K-means\n",
    "## Nombre : Ernesto Nicanor Santillán Guerrero\n",
    "\n",
    "## Matricula : A01793675\n",
    "\n",
    "## Materia: Ciencia y analítica de datos\n",
    "\n",
    "## Profesor: María de la Paz Rico Fernández\n",
    "\n",
    "## Fecha: 11 de Noviembre de 2022"
   ]
  },
  {
   "cell_type": "markdown",
   "metadata": {
    "id": "6mUW5QNwhz5T"
   },
   "source": [
    "Este notebook se basa en información de target\n",
    "![imagen.png](https://www.america-retail.com/static//2020/12/target01.jpg)\n",
    "\n",
    "\n",
    "Ahora imagina que somos parte del equipo de data science de la empresa Target, una de las tiendas con mayor presencia en Estados Unidos. El departamento de logistica acude a nosotros para saber donde le conviene poner sus almacenes, para que se optimice el gasto de gasolina, los tiempos de entrega de los productos y se disminuyan costos. Para ello, nos pasan los datos de latitud y longitud de cada una de las tiendas.\n",
    "\n",
    "https://www.kaggle.com/datasets/saejinmahlauheinert/target-store-locations?select=target-locations.csv\n",
    "\n",
    "Si quieres saber un poco más de graficas geográficas consulta el siguiente notebook\n",
    "https://colab.research.google.com/github/QuantEcon/quantecon-notebooks-datascience/blob/master/applications/maps.ipynb#scrollTo=uo2oPtSCeAOz"
   ]
  },
  {
   "cell_type": "code",
   "execution_count": 1,
   "metadata": {
    "colab": {
     "base_uri": "https://localhost:8080/"
    },
    "id": "YwkfEqinwESD",
    "outputId": "4f3f59bb-a439-4cc0-bf4b-e86aa3702621"
   },
   "outputs": [
    {
     "name": "stdout",
     "output_type": "stream",
     "text": [
      "Collecting qeds\n",
      "  Downloading qeds-0.7.0.tar.gz (24 kB)\n",
      "Requirement already satisfied: fiona in c:\\users\\adminmvd\\appdata\\local\\pythonplus\\64bit\\envs\\py37\\lib\\site-packages (1.8.13.post1)\n",
      "Requirement already satisfied: geopandas in c:\\users\\adminmvd\\appdata\\local\\pythonplus\\64bit\\envs\\py37\\lib\\site-packages (0.10.2)\n",
      "Collecting xgboost\n",
      "  Downloading xgboost-1.6.2-py3-none-win_amd64.whl (125.4 MB)\n",
      "Collecting gensim\n",
      "  Downloading gensim-4.2.0-cp37-cp37m-win_amd64.whl (24.0 MB)\n",
      "Requirement already satisfied: folium in c:\\users\\adminmvd\\appdata\\local\\pythonplus\\64bit\\envs\\py37\\lib\\site-packages (0.12.1.post1)\n",
      "Collecting pyLDAvis\n",
      "  Downloading pyLDAvis-3.3.1.tar.gz (1.7 MB)\n",
      "  Installing build dependencies: started\n",
      "  Installing build dependencies: finished with status 'done'\n",
      "  Getting requirements to build wheel: started\n",
      "  Getting requirements to build wheel: finished with status 'done'\n",
      "  Installing backend dependencies: started\n",
      "  Installing backend dependencies: finished with status 'done'\n",
      "    Preparing wheel metadata: started\n",
      "    Preparing wheel metadata: finished with status 'done'\n",
      "Collecting descartes\n",
      "  Downloading descartes-1.1.0-py3-none-any.whl (5.8 kB)\n",
      "Requirement already satisfied: pandas in c:\\users\\adminmvd\\appdata\\local\\pythonplus\\64bit\\envs\\py37\\lib\\site-packages (from qeds) (1.2.5)\n",
      "Requirement already satisfied: requests in c:\\users\\adminmvd\\appdata\\local\\pythonplus\\64bit\\envs\\py37\\lib\\site-packages (from qeds) (2.27.1)\n",
      "Collecting quandl\n",
      "  Downloading Quandl-3.7.0-py2.py3-none-any.whl (26 kB)\n",
      "Requirement already satisfied: scipy in c:\\users\\adminmvd\\appdata\\local\\pythonplus\\64bit\\envs\\py37\\lib\\site-packages (from qeds) (1.6.2)\n",
      "Requirement already satisfied: numpy in c:\\users\\adminmvd\\appdata\\local\\pythonplus\\64bit\\envs\\py37\\lib\\site-packages (from qeds) (1.20.2)\n",
      "Collecting quantecon\n",
      "  Downloading quantecon-0.5.3-py3-none-any.whl (179 kB)\n",
      "Requirement already satisfied: matplotlib in c:\\users\\adminmvd\\appdata\\local\\pythonplus\\64bit\\envs\\py37\\lib\\site-packages (from qeds) (3.3.4)\n",
      "Collecting pyarrow\n",
      "  Downloading pyarrow-10.0.0-cp37-cp37m-win_amd64.whl (19.9 MB)\n",
      "Requirement already satisfied: openpyxl in c:\\users\\adminmvd\\appdata\\local\\pythonplus\\64bit\\envs\\py37\\lib\\site-packages (from qeds) (3.0.7)\n",
      "Collecting plotly\n",
      "  Downloading plotly-5.11.0-py2.py3-none-any.whl (15.3 MB)\n",
      "Collecting pandas_datareader\n",
      "  Downloading pandas_datareader-0.10.0-py3-none-any.whl (109 kB)\n",
      "Requirement already satisfied: scikit-learn in c:\\users\\adminmvd\\appdata\\local\\pythonplus\\64bit\\envs\\py37\\lib\\site-packages (from qeds) (1.0.2)\n",
      "Requirement already satisfied: seaborn in c:\\users\\adminmvd\\appdata\\local\\pythonplus\\64bit\\envs\\py37\\lib\\site-packages (from qeds) (0.11.1)\n",
      "Requirement already satisfied: statsmodels in c:\\users\\adminmvd\\appdata\\local\\pythonplus\\64bit\\envs\\py37\\lib\\site-packages (from qeds) (0.13.2)\n",
      "Requirement already satisfied: attrs>=17 in c:\\users\\adminmvd\\appdata\\local\\pythonplus\\64bit\\envs\\py37\\lib\\site-packages (from fiona) (21.2.0)\n",
      "Collecting click<8,>=4.0\n",
      "  Downloading click-7.1.2-py2.py3-none-any.whl (82 kB)\n",
      "Requirement already satisfied: cligj>=0.5 in c:\\users\\adminmvd\\appdata\\local\\pythonplus\\64bit\\envs\\py37\\lib\\site-packages (from fiona) (0.7.2)\n",
      "Requirement already satisfied: click-plugins>=1.0 in c:\\users\\adminmvd\\appdata\\local\\pythonplus\\64bit\\envs\\py37\\lib\\site-packages (from fiona) (1.1.1)\n",
      "Requirement already satisfied: six>=1.7 in c:\\users\\adminmvd\\appdata\\local\\pythonplus\\64bit\\envs\\py37\\lib\\site-packages (from fiona) (1.16.0)\n",
      "Requirement already satisfied: munch in c:\\users\\adminmvd\\appdata\\local\\pythonplus\\64bit\\envs\\py37\\lib\\site-packages (from fiona) (2.5.0)\n",
      "Requirement already satisfied: pyproj>=2.2.0 in c:\\users\\adminmvd\\appdata\\local\\pythonplus\\64bit\\envs\\py37\\lib\\site-packages (from geopandas) (2.6.1.post1)\n",
      "Requirement already satisfied: shapely>=1.6 in c:\\users\\adminmvd\\appdata\\local\\pythonplus\\64bit\\envs\\py37\\lib\\site-packages (from geopandas) (1.7.1)\n",
      "Requirement already satisfied: python-dateutil>=2.7.3 in c:\\users\\adminmvd\\appdata\\local\\pythonplus\\64bit\\envs\\py37\\lib\\site-packages (from pandas->qeds) (2.8.1)\n",
      "Requirement already satisfied: pytz>=2017.3 in c:\\users\\adminmvd\\appdata\\local\\pythonplus\\64bit\\envs\\py37\\lib\\site-packages (from pandas->qeds) (2021.1)\n",
      "Collecting Cython==0.29.28\n",
      "  Downloading Cython-0.29.28-py2.py3-none-any.whl (983 kB)\n",
      "Collecting smart-open>=1.8.1\n",
      "  Downloading smart_open-6.2.0-py3-none-any.whl (58 kB)\n",
      "Requirement already satisfied: jinja2>=2.9 in c:\\users\\adminmvd\\appdata\\local\\pythonplus\\64bit\\envs\\py37\\lib\\site-packages (from folium) (3.0.1)\n",
      "Requirement already satisfied: branca>=0.3.0 in c:\\users\\adminmvd\\appdata\\local\\pythonplus\\64bit\\envs\\py37\\lib\\site-packages (from folium) (0.5.0)\n",
      "Requirement already satisfied: MarkupSafe>=2.0 in c:\\users\\adminmvd\\appdata\\local\\pythonplus\\64bit\\envs\\py37\\lib\\site-packages (from jinja2>=2.9->folium) (2.0.1)\n",
      "Collecting sklearn\n",
      "  Downloading sklearn-0.0.post1.tar.gz (3.6 kB)\n",
      "Collecting numexpr\n",
      "  Downloading numexpr-2.8.4-cp37-cp37m-win_amd64.whl (92 kB)\n",
      "Requirement already satisfied: setuptools in c:\\users\\adminmvd\\appdata\\local\\pythonplus\\64bit\\envs\\py37\\lib\\site-packages (from pyLDAvis) (52.0.0.post20210125)\n",
      "Requirement already satisfied: joblib in c:\\users\\adminmvd\\appdata\\local\\pythonplus\\64bit\\envs\\py37\\lib\\site-packages (from pyLDAvis) (1.1.0)\n",
      "Requirement already satisfied: future in c:\\users\\adminmvd\\appdata\\local\\pythonplus\\64bit\\envs\\py37\\lib\\site-packages (from pyLDAvis) (0.18.2)\n",
      "Collecting funcy\n",
      "  Downloading funcy-1.17-py2.py3-none-any.whl (33 kB)\n",
      "Requirement already satisfied: kiwisolver>=1.0.1 in c:\\users\\adminmvd\\appdata\\local\\pythonplus\\64bit\\envs\\py37\\lib\\site-packages (from matplotlib->qeds) (1.3.1)\n",
      "Requirement already satisfied: pillow>=6.2.0 in c:\\users\\adminmvd\\appdata\\local\\pythonplus\\64bit\\envs\\py37\\lib\\site-packages (from matplotlib->qeds) (8.2.0)\n",
      "Requirement already satisfied: cycler>=0.10 in c:\\users\\adminmvd\\appdata\\local\\pythonplus\\64bit\\envs\\py37\\lib\\site-packages (from matplotlib->qeds) (0.10.0)\n",
      "Requirement already satisfied: pyparsing!=2.0.4,!=2.1.2,!=2.1.6,>=2.0.3 in c:\\users\\adminmvd\\appdata\\local\\pythonplus\\64bit\\envs\\py37\\lib\\site-packages (from matplotlib->qeds) (2.4.7)\n",
      "Requirement already satisfied: et-xmlfile in c:\\users\\adminmvd\\appdata\\local\\pythonplus\\64bit\\envs\\py37\\lib\\site-packages (from openpyxl->qeds) (1.1.0)\n",
      "Collecting lxml\n",
      "  Downloading lxml-4.9.1-cp37-cp37m-win_amd64.whl (3.6 MB)\n",
      "Requirement already satisfied: certifi>=2017.4.17 in c:\\users\\adminmvd\\appdata\\local\\pythonplus\\64bit\\envs\\py37\\lib\\site-packages (from requests->qeds) (2022.6.15)\n",
      "Requirement already satisfied: idna<4,>=2.5 in c:\\users\\adminmvd\\appdata\\local\\pythonplus\\64bit\\envs\\py37\\lib\\site-packages (from requests->qeds) (3.3)\n",
      "Requirement already satisfied: charset-normalizer~=2.0.0 in c:\\users\\adminmvd\\appdata\\local\\pythonplus\\64bit\\envs\\py37\\lib\\site-packages (from requests->qeds) (2.0.4)\n",
      "Requirement already satisfied: urllib3<1.27,>=1.21.1 in c:\\users\\adminmvd\\appdata\\local\\pythonplus\\64bit\\envs\\py37\\lib\\site-packages (from requests->qeds) (1.26.9)\n",
      "Collecting tenacity>=6.2.0\n",
      "  Downloading tenacity-8.1.0-py3-none-any.whl (23 kB)\n",
      "Collecting inflection>=0.3.1\n",
      "  Downloading inflection-0.5.1-py2.py3-none-any.whl (9.5 kB)\n",
      "Collecting more-itertools\n",
      "  Downloading more_itertools-9.0.0-py3-none-any.whl (52 kB)\n",
      "Collecting sympy\n",
      "  Downloading sympy-1.10.1-py3-none-any.whl (6.4 MB)\n",
      "Collecting numba\n",
      "  Downloading numba-0.56.4-cp37-cp37m-win_amd64.whl (2.5 MB)\n",
      "Collecting llvmlite<0.40,>=0.39.0dev0\n",
      "  Downloading llvmlite-0.39.1-cp37-cp37m-win_amd64.whl (23.2 MB)\n",
      "Requirement already satisfied: importlib-metadata in c:\\users\\adminmvd\\appdata\\local\\pythonplus\\64bit\\envs\\py37\\lib\\site-packages (from numba->quantecon->qeds) (3.10.0)\n",
      "Requirement already satisfied: typing-extensions>=3.6.4 in c:\\users\\adminmvd\\appdata\\local\\pythonplus\\64bit\\envs\\py37\\lib\\site-packages (from importlib-metadata->numba->quantecon->qeds) (3.10.0.0)\n",
      "Requirement already satisfied: zipp>=0.5 in c:\\users\\adminmvd\\appdata\\local\\pythonplus\\64bit\\envs\\py37\\lib\\site-packages (from importlib-metadata->numba->quantecon->qeds) (3.4.1)\n",
      "Requirement already satisfied: threadpoolctl>=2.0.0 in c:\\users\\adminmvd\\appdata\\local\\pythonplus\\64bit\\envs\\py37\\lib\\site-packages (from scikit-learn->qeds) (3.0.0)\n",
      "Requirement already satisfied: packaging>=21.3 in c:\\users\\adminmvd\\appdata\\local\\pythonplus\\64bit\\envs\\py37\\lib\\site-packages (from statsmodels->qeds) (21.3)\n",
      "Requirement already satisfied: patsy>=0.5.2 in c:\\users\\adminmvd\\appdata\\local\\pythonplus\\64bit\\envs\\py37\\lib\\site-packages (from statsmodels->qeds) (0.5.2)\n",
      "Collecting mpmath>=0.19\n",
      "  Downloading mpmath-1.2.1-py3-none-any.whl (532 kB)\n",
      "Building wheels for collected packages: qeds, pyLDAvis, sklearn\n",
      "  Building wheel for qeds (setup.py): started\n",
      "  Building wheel for qeds (setup.py): finished with status 'done'\n",
      "  Created wheel for qeds: filename=qeds-0.7.0-py3-none-any.whl size=27813 sha256=5e9bf0ae8d553c7a78bc44cb9dcb02729bf31099f00a47866dd25bece3f9c9c9\n",
      "  Stored in directory: c:\\users\\santien\\appdata\\local\\pip\\cache\\wheels\\fc\\8c\\52\\0cc036b9730b75850b9845770780f8d05ed08ff38a67cbaa29\n",
      "  Building wheel for pyLDAvis (PEP 517): started\n",
      "  Building wheel for pyLDAvis (PEP 517): finished with status 'done'\n",
      "  Created wheel for pyLDAvis: filename=pyLDAvis-3.3.1-py2.py3-none-any.whl size=136904 sha256=a208049ee6a528601e2c691a3c992f2b44f0f48cc1894bf0774c36dc4dec70bd\n",
      "  Stored in directory: c:\\users\\santien\\appdata\\local\\pip\\cache\\wheels\\c9\\21\\f6\\17bcf2667e8a68532ba2fbf6d5c72fdf4c7f7d9abfa4852d2f\n",
      "  Building wheel for sklearn (setup.py): started\n",
      "  Building wheel for sklearn (setup.py): finished with status 'done'\n",
      "  Created wheel for sklearn: filename=sklearn-0.0.post1-py3-none-any.whl size=2343 sha256=00a25fdb496ed2e5705ca64c60d5e2363cd24295b56fdf85c96bc28b6cc53736\n",
      "  Stored in directory: c:\\users\\santien\\appdata\\local\\pip\\cache\\wheels\\42\\56\\cc\\4a8bf86613aafd5b7f1b310477667c1fca5c51c3ae4124a003\n",
      "Successfully built qeds pyLDAvis sklearn\n",
      "Installing collected packages: mpmath, llvmlite, click, tenacity, sympy, smart-open, numba, more-itertools, lxml, inflection, Cython, sklearn, quantecon, quandl, pyarrow, plotly, pandas-datareader, numexpr, gensim, funcy, xgboost, qeds, pyLDAvis, descartes\n",
      "  Attempting uninstall: click\n",
      "    Found existing installation: click 8.0.1\n",
      "    Uninstalling click-8.0.1:\n",
      "      Successfully uninstalled click-8.0.1\n",
      "Successfully installed Cython-0.29.28 click-7.1.2 descartes-1.1.0 funcy-1.17 gensim-4.2.0 inflection-0.5.1 llvmlite-0.39.1 lxml-4.9.1 more-itertools-9.0.0 mpmath-1.2.1 numba-0.56.4 numexpr-2.8.4 pandas-datareader-0.10.0 plotly-5.11.0 pyLDAvis-3.3.1 pyarrow-10.0.0 qeds-0.7.0 quandl-3.7.0 quantecon-0.5.3 sklearn-0.0.post1 smart-open-6.2.0 sympy-1.10.1 tenacity-8.1.0 xgboost-1.6.2\n"
     ]
    }
   ],
   "source": [
    "! pip install qeds fiona geopandas xgboost gensim folium pyLDAvis descartes"
   ]
  },
  {
   "cell_type": "code",
   "execution_count": 2,
   "metadata": {
    "id": "WBpdGjbquQii"
   },
   "outputs": [],
   "source": [
    "import pandas as pd\n",
    "import numpy as np\n",
    "from tqdm import tqdm\n",
    "%matplotlib inline\n",
    "import numpy as np\n",
    "import matplotlib.pyplot as plt\n",
    "import geopandas"
   ]
  },
  {
   "cell_type": "markdown",
   "metadata": {
    "id": "KNTIoZlGvPum"
   },
   "source": [
    "Importa la base de datos"
   ]
  },
  {
   "cell_type": "code",
   "execution_count": 3,
   "metadata": {
    "id": "PAJWHRVN781V"
   },
   "outputs": [],
   "source": [
    "url=\"https://raw.githubusercontent.com/marypazrf/bdd/main/target-locations.csv\"\n",
    "df=pd.read_csv(url)"
   ]
  },
  {
   "cell_type": "markdown",
   "metadata": {
    "id": "sH4hvPAYvUGY"
   },
   "source": [
    "Exploremos los datos."
   ]
  },
  {
   "cell_type": "code",
   "execution_count": 4,
   "metadata": {
    "colab": {
     "base_uri": "https://localhost:8080/",
     "height": 206
    },
    "id": "DuzNp7KseyBg",
    "outputId": "9d08c3b6-e45a-4175-b61f-f84fbb9e3704"
   },
   "outputs": [
    {
     "data": {
      "text/html": [
       "<div>\n",
       "<style scoped>\n",
       "    .dataframe tbody tr th:only-of-type {\n",
       "        vertical-align: middle;\n",
       "    }\n",
       "\n",
       "    .dataframe tbody tr th {\n",
       "        vertical-align: top;\n",
       "    }\n",
       "\n",
       "    .dataframe thead th {\n",
       "        text-align: right;\n",
       "    }\n",
       "</style>\n",
       "<table border=\"1\" class=\"dataframe\">\n",
       "  <thead>\n",
       "    <tr style=\"text-align: right;\">\n",
       "      <th></th>\n",
       "      <th>name</th>\n",
       "      <th>latitude</th>\n",
       "      <th>longitude</th>\n",
       "      <th>address</th>\n",
       "      <th>phone</th>\n",
       "      <th>website</th>\n",
       "    </tr>\n",
       "  </thead>\n",
       "  <tbody>\n",
       "    <tr>\n",
       "      <th>0</th>\n",
       "      <td>Alabaster</td>\n",
       "      <td>33.224225</td>\n",
       "      <td>-86.804174</td>\n",
       "      <td>250 S Colonial Dr, Alabaster, AL 35007-4657</td>\n",
       "      <td>205-564-2608</td>\n",
       "      <td>https://www.target.com/sl/alabaster/2276</td>\n",
       "    </tr>\n",
       "    <tr>\n",
       "      <th>1</th>\n",
       "      <td>Bessemer</td>\n",
       "      <td>33.334550</td>\n",
       "      <td>-86.989778</td>\n",
       "      <td>4889 Promenade Pkwy, Bessemer, AL 35022-7305</td>\n",
       "      <td>205-565-3760</td>\n",
       "      <td>https://www.target.com/sl/bessemer/2375</td>\n",
       "    </tr>\n",
       "    <tr>\n",
       "      <th>2</th>\n",
       "      <td>Daphne</td>\n",
       "      <td>30.602875</td>\n",
       "      <td>-87.895932</td>\n",
       "      <td>1698 US Highway 98, Daphne, AL 36526-4252</td>\n",
       "      <td>251-621-3540</td>\n",
       "      <td>https://www.target.com/sl/daphne/1274</td>\n",
       "    </tr>\n",
       "    <tr>\n",
       "      <th>3</th>\n",
       "      <td>Decatur</td>\n",
       "      <td>34.560148</td>\n",
       "      <td>-86.971559</td>\n",
       "      <td>1235 Point Mallard Pkwy SE, Decatur, AL 35601-...</td>\n",
       "      <td>256-898-3036</td>\n",
       "      <td>https://www.target.com/sl/decatur/2084</td>\n",
       "    </tr>\n",
       "    <tr>\n",
       "      <th>4</th>\n",
       "      <td>Dothan</td>\n",
       "      <td>31.266061</td>\n",
       "      <td>-85.446422</td>\n",
       "      <td>4601 Montgomery Hwy, Dothan, AL 36303-1522</td>\n",
       "      <td>334-340-1112</td>\n",
       "      <td>https://www.target.com/sl/dothan/1468</td>\n",
       "    </tr>\n",
       "  </tbody>\n",
       "</table>\n",
       "</div>"
      ],
      "text/plain": [
       "        name   latitude  longitude  \\\n",
       "0  Alabaster  33.224225 -86.804174   \n",
       "1   Bessemer  33.334550 -86.989778   \n",
       "2     Daphne  30.602875 -87.895932   \n",
       "3    Decatur  34.560148 -86.971559   \n",
       "4     Dothan  31.266061 -85.446422   \n",
       "\n",
       "                                             address         phone  \\\n",
       "0        250 S Colonial Dr, Alabaster, AL 35007-4657  205-564-2608   \n",
       "1       4889 Promenade Pkwy, Bessemer, AL 35022-7305  205-565-3760   \n",
       "2          1698 US Highway 98, Daphne, AL 36526-4252  251-621-3540   \n",
       "3  1235 Point Mallard Pkwy SE, Decatur, AL 35601-...  256-898-3036   \n",
       "4         4601 Montgomery Hwy, Dothan, AL 36303-1522  334-340-1112   \n",
       "\n",
       "                                    website  \n",
       "0  https://www.target.com/sl/alabaster/2276  \n",
       "1   https://www.target.com/sl/bessemer/2375  \n",
       "2     https://www.target.com/sl/daphne/1274  \n",
       "3    https://www.target.com/sl/decatur/2084  \n",
       "4     https://www.target.com/sl/dothan/1468  "
      ]
     },
     "execution_count": 4,
     "metadata": {},
     "output_type": "execute_result"
    }
   ],
   "source": [
    "\n",
    "df.head()\n"
   ]
  },
  {
   "cell_type": "code",
   "execution_count": 5,
   "metadata": {
    "colab": {
     "base_uri": "https://localhost:8080/"
    },
    "id": "MxbhdLkavl7Q",
    "outputId": "a8717c27-b24d-4d71-9153-3f94ee0db339"
   },
   "outputs": [
    {
     "name": "stdout",
     "output_type": "stream",
     "text": [
      "<class 'pandas.core.frame.DataFrame'>\n",
      "RangeIndex: 1839 entries, 0 to 1838\n",
      "Data columns (total 6 columns):\n",
      " #   Column     Non-Null Count  Dtype  \n",
      "---  ------     --------------  -----  \n",
      " 0   name       1839 non-null   object \n",
      " 1   latitude   1839 non-null   float64\n",
      " 2   longitude  1839 non-null   float64\n",
      " 3   address    1839 non-null   object \n",
      " 4   phone      1839 non-null   object \n",
      " 5   website    1839 non-null   object \n",
      "dtypes: float64(2), object(4)\n",
      "memory usage: 86.3+ KB\n"
     ]
    }
   ],
   "source": [
    "df.info()"
   ]
  },
  {
   "cell_type": "markdown",
   "metadata": {
    "id": "cpfqKT4qxAZz"
   },
   "source": [
    "**Definición de Latitud y Longitud**\n",
    "\n",
    "**Latitud** Es la distancia en grados, minutos y segundos que hay con respecto al paralelo principal, que es el ecuador (0º). La latitud puede ser norte y sur.\n",
    "\n",
    "**Longitud**: Es la distancia en grados, minutos y segundos que hay con respecto al meridiano principal, que es el meridiano de Greenwich (0º).La longitud puede ser este y oeste."
   ]
  },
  {
   "cell_type": "code",
   "execution_count": 294,
   "metadata": {
    "id": "oPzX3DGju0As"
   },
   "outputs": [],
   "source": [
    "latlong=df[[\"latitude\",\"longitude\"]]"
   ]
  },
  {
   "cell_type": "code",
   "execution_count": 295,
   "metadata": {
    "id": "n4QKgxn4e6V0"
   },
   "outputs": [
    {
     "name": "stdout",
     "output_type": "stream",
     "text": [
      "1839\n"
     ]
    }
   ],
   "source": [
    "print(len(latlong))"
   ]
  },
  {
   "cell_type": "markdown",
   "metadata": {
    "id": "gMk6UVE2e67y"
   },
   "source": [
    "¡Visualizemos los datos!, para empezar a notar algún patron. \n",
    "\n",
    "A simple vista pudieramos pensar que tenemos algunos datos atípicos u outliers, pero .... no es así, simplemente esta grafica no nos está dando toda la información."
   ]
  },
  {
   "cell_type": "code",
   "execution_count": 296,
   "metadata": {
    "colab": {
     "base_uri": "https://localhost:8080/",
     "height": 297
    },
    "id": "-QZRqKiDfj2J",
    "outputId": "a58414cd-78fd-4d51-d02e-0abbc46caeee"
   },
   "outputs": [
    {
     "data": {
      "text/plain": [
       "<AxesSubplot:xlabel='longitude', ylabel='latitude'>"
      ]
     },
     "execution_count": 296,
     "metadata": {},
     "output_type": "execute_result"
    },
    {
     "data": {
      "image/png": "[encoded data removed]",
      "text/plain": [
       "<Figure size 432x288 with 1 Axes>"
      ]
     },
     "metadata": {},
     "output_type": "display_data"
    }
   ],
   "source": [
    "#extrae los datos interesantes\n",
    "latlong.plot.scatter( \"longitude\",\"latitude\")"
   ]
  },
  {
   "cell_type": "code",
   "execution_count": 297,
   "metadata": {
    "colab": {
     "base_uri": "https://localhost:8080/",
     "height": 300
    },
    "id": "O6b3QguyyjM_",
    "outputId": "3acf887d-944c-4cf0-849d-471fa614c795"
   },
   "outputs": [
    {
     "data": {
      "text/html": [
       "<div>\n",
       "<style scoped>\n",
       "    .dataframe tbody tr th:only-of-type {\n",
       "        vertical-align: middle;\n",
       "    }\n",
       "\n",
       "    .dataframe tbody tr th {\n",
       "        vertical-align: top;\n",
       "    }\n",
       "\n",
       "    .dataframe thead th {\n",
       "        text-align: right;\n",
       "    }\n",
       "</style>\n",
       "<table border=\"1\" class=\"dataframe\">\n",
       "  <thead>\n",
       "    <tr style=\"text-align: right;\">\n",
       "      <th></th>\n",
       "      <th>latitude</th>\n",
       "      <th>longitude</th>\n",
       "    </tr>\n",
       "  </thead>\n",
       "  <tbody>\n",
       "    <tr>\n",
       "      <th>count</th>\n",
       "      <td>1839.000000</td>\n",
       "      <td>1839.000000</td>\n",
       "    </tr>\n",
       "    <tr>\n",
       "      <th>mean</th>\n",
       "      <td>37.791238</td>\n",
       "      <td>-91.986881</td>\n",
       "    </tr>\n",
       "    <tr>\n",
       "      <th>std</th>\n",
       "      <td>5.272299</td>\n",
       "      <td>16.108046</td>\n",
       "    </tr>\n",
       "    <tr>\n",
       "      <th>min</th>\n",
       "      <td>19.647855</td>\n",
       "      <td>-159.376962</td>\n",
       "    </tr>\n",
       "    <tr>\n",
       "      <th>25%</th>\n",
       "      <td>33.882605</td>\n",
       "      <td>-98.268828</td>\n",
       "    </tr>\n",
       "    <tr>\n",
       "      <th>50%</th>\n",
       "      <td>38.955432</td>\n",
       "      <td>-87.746346</td>\n",
       "    </tr>\n",
       "    <tr>\n",
       "      <th>75%</th>\n",
       "      <td>41.658341</td>\n",
       "      <td>-80.084833</td>\n",
       "    </tr>\n",
       "    <tr>\n",
       "      <th>max</th>\n",
       "      <td>61.577919</td>\n",
       "      <td>-68.742331</td>\n",
       "    </tr>\n",
       "  </tbody>\n",
       "</table>\n",
       "</div>"
      ],
      "text/plain": [
       "          latitude    longitude\n",
       "count  1839.000000  1839.000000\n",
       "mean     37.791238   -91.986881\n",
       "std       5.272299    16.108046\n",
       "min      19.647855  -159.376962\n",
       "25%      33.882605   -98.268828\n",
       "50%      38.955432   -87.746346\n",
       "75%      41.658341   -80.084833\n",
       "max      61.577919   -68.742331"
      ]
     },
     "execution_count": 297,
     "metadata": {},
     "output_type": "execute_result"
    }
   ],
   "source": [
    "latlong.describe()"
   ]
  },
  {
   "cell_type": "markdown",
   "metadata": {
    "id": "hkPMyAyIDunz"
   },
   "source": [
    "Para entender un poco más, nos auxiliaremos de una librería para graficar datos geográficos. Esto nos ayudara a tener un mejor entendimiento de ellos.\n",
    "\n",
    "\n"
   ]
  },
  {
   "cell_type": "code",
   "execution_count": 298,
   "metadata": {
    "id": "_blyM4esyJTu"
   },
   "outputs": [],
   "source": [
    "import geopandas as gpd\n",
    "import matplotlib.pyplot as plt\n",
    "import pandas as pd\n",
    "\n",
    "from shapely.geometry import Point\n",
    "\n",
    "%matplotlib inline\n",
    "# activate plot theme\n",
    "import qeds\n",
    "qeds.themes.mpl_style();"
   ]
  },
  {
   "cell_type": "code",
   "execution_count": 299,
   "metadata": {
    "colab": {
     "base_uri": "https://localhost:8080/",
     "height": 206
    },
    "id": "01i0TciKfPco",
    "outputId": "3662ce4c-9349-4aba-fc07-e8d4c3eac83a"
   },
   "outputs": [
    {
     "data": {
      "text/html": [
       "<div>\n",
       "<style scoped>\n",
       "    .dataframe tbody tr th:only-of-type {\n",
       "        vertical-align: middle;\n",
       "    }\n",
       "\n",
       "    .dataframe tbody tr th {\n",
       "        vertical-align: top;\n",
       "    }\n",
       "\n",
       "    .dataframe thead th {\n",
       "        text-align: right;\n",
       "    }\n",
       "</style>\n",
       "<table border=\"1\" class=\"dataframe\">\n",
       "  <thead>\n",
       "    <tr style=\"text-align: right;\">\n",
       "      <th></th>\n",
       "      <th>name</th>\n",
       "      <th>latitude</th>\n",
       "      <th>longitude</th>\n",
       "      <th>address</th>\n",
       "      <th>phone</th>\n",
       "      <th>website</th>\n",
       "      <th>Coordinates</th>\n",
       "    </tr>\n",
       "  </thead>\n",
       "  <tbody>\n",
       "    <tr>\n",
       "      <th>0</th>\n",
       "      <td>Alabaster</td>\n",
       "      <td>33.224225</td>\n",
       "      <td>-86.804174</td>\n",
       "      <td>250 S Colonial Dr, Alabaster, AL 35007-4657</td>\n",
       "      <td>205-564-2608</td>\n",
       "      <td>https://www.target.com/sl/alabaster/2276</td>\n",
       "      <td>POINT (-86.80417369999999 33.2242254)</td>\n",
       "    </tr>\n",
       "    <tr>\n",
       "      <th>1</th>\n",
       "      <td>Bessemer</td>\n",
       "      <td>33.334550</td>\n",
       "      <td>-86.989778</td>\n",
       "      <td>4889 Promenade Pkwy, Bessemer, AL 35022-7305</td>\n",
       "      <td>205-565-3760</td>\n",
       "      <td>https://www.target.com/sl/bessemer/2375</td>\n",
       "      <td>POINT (-86.98977789999999 33.3345501)</td>\n",
       "    </tr>\n",
       "    <tr>\n",
       "      <th>2</th>\n",
       "      <td>Daphne</td>\n",
       "      <td>30.602875</td>\n",
       "      <td>-87.895932</td>\n",
       "      <td>1698 US Highway 98, Daphne, AL 36526-4252</td>\n",
       "      <td>251-621-3540</td>\n",
       "      <td>https://www.target.com/sl/daphne/1274</td>\n",
       "      <td>POINT (-87.89593169999999 30.6028747)</td>\n",
       "    </tr>\n",
       "    <tr>\n",
       "      <th>3</th>\n",
       "      <td>Decatur</td>\n",
       "      <td>34.560148</td>\n",
       "      <td>-86.971559</td>\n",
       "      <td>1235 Point Mallard Pkwy SE, Decatur, AL 35601-...</td>\n",
       "      <td>256-898-3036</td>\n",
       "      <td>https://www.target.com/sl/decatur/2084</td>\n",
       "      <td>POINT (-86.9715595 34.5601477)</td>\n",
       "    </tr>\n",
       "    <tr>\n",
       "      <th>4</th>\n",
       "      <td>Dothan</td>\n",
       "      <td>31.266061</td>\n",
       "      <td>-85.446422</td>\n",
       "      <td>4601 Montgomery Hwy, Dothan, AL 36303-1522</td>\n",
       "      <td>334-340-1112</td>\n",
       "      <td>https://www.target.com/sl/dothan/1468</td>\n",
       "      <td>POINT (-85.4464222 31.2660613)</td>\n",
       "    </tr>\n",
       "  </tbody>\n",
       "</table>\n",
       "</div>"
      ],
      "text/plain": [
       "        name   latitude  longitude  \\\n",
       "0  Alabaster  33.224225 -86.804174   \n",
       "1   Bessemer  33.334550 -86.989778   \n",
       "2     Daphne  30.602875 -87.895932   \n",
       "3    Decatur  34.560148 -86.971559   \n",
       "4     Dothan  31.266061 -85.446422   \n",
       "\n",
       "                                             address         phone  \\\n",
       "0        250 S Colonial Dr, Alabaster, AL 35007-4657  205-564-2608   \n",
       "1       4889 Promenade Pkwy, Bessemer, AL 35022-7305  205-565-3760   \n",
       "2          1698 US Highway 98, Daphne, AL 36526-4252  251-621-3540   \n",
       "3  1235 Point Mallard Pkwy SE, Decatur, AL 35601-...  256-898-3036   \n",
       "4         4601 Montgomery Hwy, Dothan, AL 36303-1522  334-340-1112   \n",
       "\n",
       "                                    website  \\\n",
       "0  https://www.target.com/sl/alabaster/2276   \n",
       "1   https://www.target.com/sl/bessemer/2375   \n",
       "2     https://www.target.com/sl/daphne/1274   \n",
       "3    https://www.target.com/sl/decatur/2084   \n",
       "4     https://www.target.com/sl/dothan/1468   \n",
       "\n",
       "                             Coordinates  \n",
       "0  POINT (-86.80417369999999 33.2242254)  \n",
       "1  POINT (-86.98977789999999 33.3345501)  \n",
       "2  POINT (-87.89593169999999 30.6028747)  \n",
       "3         POINT (-86.9715595 34.5601477)  \n",
       "4         POINT (-85.4464222 31.2660613)  "
      ]
     },
     "execution_count": 299,
     "metadata": {},
     "output_type": "execute_result"
    }
   ],
   "source": [
    "df[\"Coordinates\"] = list(zip(df.longitude, df.latitude))\n",
    "df[\"Coordinates\"] = df[\"Coordinates\"].apply(Point)\n",
    "df.head()"
   ]
  },
  {
   "cell_type": "code",
   "execution_count": 300,
   "metadata": {
    "colab": {
     "base_uri": "https://localhost:8080/",
     "height": 206
    },
    "id": "SBTBrsvlfIU_",
    "outputId": "f25de2e3-840d-4945-a174-eea2fa7f441d"
   },
   "outputs": [
    {
     "data": {
      "text/html": [
       "<div>\n",
       "<style scoped>\n",
       "    .dataframe tbody tr th:only-of-type {\n",
       "        vertical-align: middle;\n",
       "    }\n",
       "\n",
       "    .dataframe tbody tr th {\n",
       "        vertical-align: top;\n",
       "    }\n",
       "\n",
       "    .dataframe thead th {\n",
       "        text-align: right;\n",
       "    }\n",
       "</style>\n",
       "<table border=\"1\" class=\"dataframe\">\n",
       "  <thead>\n",
       "    <tr style=\"text-align: right;\">\n",
       "      <th></th>\n",
       "      <th>name</th>\n",
       "      <th>latitude</th>\n",
       "      <th>longitude</th>\n",
       "      <th>address</th>\n",
       "      <th>phone</th>\n",
       "      <th>website</th>\n",
       "      <th>Coordinates</th>\n",
       "    </tr>\n",
       "  </thead>\n",
       "  <tbody>\n",
       "    <tr>\n",
       "      <th>0</th>\n",
       "      <td>Alabaster</td>\n",
       "      <td>33.224225</td>\n",
       "      <td>-86.804174</td>\n",
       "      <td>250 S Colonial Dr, Alabaster, AL 35007-4657</td>\n",
       "      <td>205-564-2608</td>\n",
       "      <td>https://www.target.com/sl/alabaster/2276</td>\n",
       "      <td>POINT (-86.80417 33.22423)</td>\n",
       "    </tr>\n",
       "    <tr>\n",
       "      <th>1</th>\n",
       "      <td>Bessemer</td>\n",
       "      <td>33.334550</td>\n",
       "      <td>-86.989778</td>\n",
       "      <td>4889 Promenade Pkwy, Bessemer, AL 35022-7305</td>\n",
       "      <td>205-565-3760</td>\n",
       "      <td>https://www.target.com/sl/bessemer/2375</td>\n",
       "      <td>POINT (-86.98978 33.33455)</td>\n",
       "    </tr>\n",
       "    <tr>\n",
       "      <th>2</th>\n",
       "      <td>Daphne</td>\n",
       "      <td>30.602875</td>\n",
       "      <td>-87.895932</td>\n",
       "      <td>1698 US Highway 98, Daphne, AL 36526-4252</td>\n",
       "      <td>251-621-3540</td>\n",
       "      <td>https://www.target.com/sl/daphne/1274</td>\n",
       "      <td>POINT (-87.89593 30.60287)</td>\n",
       "    </tr>\n",
       "    <tr>\n",
       "      <th>3</th>\n",
       "      <td>Decatur</td>\n",
       "      <td>34.560148</td>\n",
       "      <td>-86.971559</td>\n",
       "      <td>1235 Point Mallard Pkwy SE, Decatur, AL 35601-...</td>\n",
       "      <td>256-898-3036</td>\n",
       "      <td>https://www.target.com/sl/decatur/2084</td>\n",
       "      <td>POINT (-86.97156 34.56015)</td>\n",
       "    </tr>\n",
       "    <tr>\n",
       "      <th>4</th>\n",
       "      <td>Dothan</td>\n",
       "      <td>31.266061</td>\n",
       "      <td>-85.446422</td>\n",
       "      <td>4601 Montgomery Hwy, Dothan, AL 36303-1522</td>\n",
       "      <td>334-340-1112</td>\n",
       "      <td>https://www.target.com/sl/dothan/1468</td>\n",
       "      <td>POINT (-85.44642 31.26606)</td>\n",
       "    </tr>\n",
       "  </tbody>\n",
       "</table>\n",
       "</div>"
      ],
      "text/plain": [
       "        name   latitude  longitude  \\\n",
       "0  Alabaster  33.224225 -86.804174   \n",
       "1   Bessemer  33.334550 -86.989778   \n",
       "2     Daphne  30.602875 -87.895932   \n",
       "3    Decatur  34.560148 -86.971559   \n",
       "4     Dothan  31.266061 -85.446422   \n",
       "\n",
       "                                             address         phone  \\\n",
       "0        250 S Colonial Dr, Alabaster, AL 35007-4657  205-564-2608   \n",
       "1       4889 Promenade Pkwy, Bessemer, AL 35022-7305  205-565-3760   \n",
       "2          1698 US Highway 98, Daphne, AL 36526-4252  251-621-3540   \n",
       "3  1235 Point Mallard Pkwy SE, Decatur, AL 35601-...  256-898-3036   \n",
       "4         4601 Montgomery Hwy, Dothan, AL 36303-1522  334-340-1112   \n",
       "\n",
       "                                    website                 Coordinates  \n",
       "0  https://www.target.com/sl/alabaster/2276  POINT (-86.80417 33.22423)  \n",
       "1   https://www.target.com/sl/bessemer/2375  POINT (-86.98978 33.33455)  \n",
       "2     https://www.target.com/sl/daphne/1274  POINT (-87.89593 30.60287)  \n",
       "3    https://www.target.com/sl/decatur/2084  POINT (-86.97156 34.56015)  \n",
       "4     https://www.target.com/sl/dothan/1468  POINT (-85.44642 31.26606)  "
      ]
     },
     "execution_count": 300,
     "metadata": {},
     "output_type": "execute_result"
    }
   ],
   "source": [
    "gdf = gpd.GeoDataFrame(df, geometry=\"Coordinates\")\n",
    "gdf.head()"
   ]
  },
  {
   "cell_type": "code",
   "execution_count": 301,
   "metadata": {
    "colab": {
     "base_uri": "https://localhost:8080/",
     "height": 237
    },
    "id": "wB6Jkrvbfef1",
    "outputId": "1ea8bb73-a723-4998-98a6-e0ee92deaa31"
   },
   "outputs": [
    {
     "data": {
      "text/html": [
       "<div>\n",
       "<style scoped>\n",
       "    .dataframe tbody tr th:only-of-type {\n",
       "        vertical-align: middle;\n",
       "    }\n",
       "\n",
       "    .dataframe tbody tr th {\n",
       "        vertical-align: top;\n",
       "    }\n",
       "\n",
       "    .dataframe thead th {\n",
       "        text-align: right;\n",
       "    }\n",
       "</style>\n",
       "<table border=\"1\" class=\"dataframe\">\n",
       "  <thead>\n",
       "    <tr style=\"text-align: right;\">\n",
       "      <th></th>\n",
       "      <th>pop_est</th>\n",
       "      <th>continent</th>\n",
       "      <th>name</th>\n",
       "      <th>gdp_md_est</th>\n",
       "      <th>geometry</th>\n",
       "    </tr>\n",
       "    <tr>\n",
       "      <th>iso_a3</th>\n",
       "      <th></th>\n",
       "      <th></th>\n",
       "      <th></th>\n",
       "      <th></th>\n",
       "      <th></th>\n",
       "    </tr>\n",
       "  </thead>\n",
       "  <tbody>\n",
       "    <tr>\n",
       "      <th>FJI</th>\n",
       "      <td>920938</td>\n",
       "      <td>Oceania</td>\n",
       "      <td>Fiji</td>\n",
       "      <td>8374.0</td>\n",
       "      <td>MULTIPOLYGON (((180.00000 -16.06713, 180.00000...</td>\n",
       "    </tr>\n",
       "    <tr>\n",
       "      <th>TZA</th>\n",
       "      <td>53950935</td>\n",
       "      <td>Africa</td>\n",
       "      <td>Tanzania</td>\n",
       "      <td>150600.0</td>\n",
       "      <td>POLYGON ((33.90371 -0.95000, 34.07262 -1.05982...</td>\n",
       "    </tr>\n",
       "    <tr>\n",
       "      <th>ESH</th>\n",
       "      <td>603253</td>\n",
       "      <td>Africa</td>\n",
       "      <td>W. Sahara</td>\n",
       "      <td>906.5</td>\n",
       "      <td>POLYGON ((-8.66559 27.65643, -8.66512 27.58948...</td>\n",
       "    </tr>\n",
       "    <tr>\n",
       "      <th>CAN</th>\n",
       "      <td>35623680</td>\n",
       "      <td>North America</td>\n",
       "      <td>Canada</td>\n",
       "      <td>1674000.0</td>\n",
       "      <td>MULTIPOLYGON (((-122.84000 49.00000, -122.9742...</td>\n",
       "    </tr>\n",
       "    <tr>\n",
       "      <th>USA</th>\n",
       "      <td>326625791</td>\n",
       "      <td>North America</td>\n",
       "      <td>United States of America</td>\n",
       "      <td>18560000.0</td>\n",
       "      <td>MULTIPOLYGON (((-122.84000 49.00000, -120.0000...</td>\n",
       "    </tr>\n",
       "  </tbody>\n",
       "</table>\n",
       "</div>"
      ],
      "text/plain": [
       "          pop_est      continent                      name  gdp_md_est  \\\n",
       "iso_a3                                                                   \n",
       "FJI        920938        Oceania                      Fiji      8374.0   \n",
       "TZA      53950935         Africa                  Tanzania    150600.0   \n",
       "ESH        603253         Africa                 W. Sahara       906.5   \n",
       "CAN      35623680  North America                    Canada   1674000.0   \n",
       "USA     326625791  North America  United States of America  18560000.0   \n",
       "\n",
       "                                                 geometry  \n",
       "iso_a3                                                     \n",
       "FJI     MULTIPOLYGON (((180.00000 -16.06713, 180.00000...  \n",
       "TZA     POLYGON ((33.90371 -0.95000, 34.07262 -1.05982...  \n",
       "ESH     POLYGON ((-8.66559 27.65643, -8.66512 27.58948...  \n",
       "CAN     MULTIPOLYGON (((-122.84000 49.00000, -122.9742...  \n",
       "USA     MULTIPOLYGON (((-122.84000 49.00000, -120.0000...  "
      ]
     },
     "execution_count": 301,
     "metadata": {},
     "output_type": "execute_result"
    }
   ],
   "source": [
    "#mapa\n",
    "\n",
    "world = gpd.read_file(gpd.datasets.get_path(\"naturalearth_lowres\"))\n",
    "world = world.set_index(\"iso_a3\")\n",
    "\n",
    "world.head()"
   ]
  },
  {
   "cell_type": "code",
   "execution_count": 302,
   "metadata": {
    "colab": {
     "base_uri": "https://localhost:8080/"
    },
    "id": "0qkBCMSUflw_",
    "outputId": "dd9c73f1-8324-403d-9586-844ffb584bd6"
   },
   "outputs": [
    {
     "data": {
      "text/plain": [
       "array(['Fiji', 'Tanzania', 'W. Sahara', 'Canada',\n",
       "       'United States of America', 'Kazakhstan', 'Uzbekistan',\n",
       "       'Papua New Guinea', 'Indonesia', 'Argentina', 'Chile',\n",
       "       'Dem. Rep. Congo', 'Somalia', 'Kenya', 'Sudan', 'Chad', 'Haiti',\n",
       "       'Dominican Rep.', 'Russia', 'Bahamas', 'Falkland Is.', 'Norway',\n",
       "       'Greenland', 'Fr. S. Antarctic Lands', 'Timor-Leste',\n",
       "       'South Africa', 'Lesotho', 'Mexico', 'Uruguay', 'Brazil',\n",
       "       'Bolivia', 'Peru', 'Colombia', 'Panama', 'Costa Rica', 'Nicaragua',\n",
       "       'Honduras', 'El Salvador', 'Guatemala', 'Belize', 'Venezuela',\n",
       "       'Guyana', 'Suriname', 'France', 'Ecuador', 'Puerto Rico',\n",
       "       'Jamaica', 'Cuba', 'Zimbabwe', 'Botswana', 'Namibia', 'Senegal',\n",
       "       'Mali', 'Mauritania', 'Benin', 'Niger', 'Nigeria', 'Cameroon',\n",
       "       'Togo', 'Ghana', \"Côte d'Ivoire\", 'Guinea', 'Guinea-Bissau',\n",
       "       'Liberia', 'Sierra Leone', 'Burkina Faso', 'Central African Rep.',\n",
       "       'Congo', 'Gabon', 'Eq. Guinea', 'Zambia', 'Malawi', 'Mozambique',\n",
       "       'eSwatini', 'Angola', 'Burundi', 'Israel', 'Lebanon', 'Madagascar',\n",
       "       'Palestine', 'Gambia', 'Tunisia', 'Algeria', 'Jordan',\n",
       "       'United Arab Emirates', 'Qatar', 'Kuwait', 'Iraq', 'Oman',\n",
       "       'Vanuatu', 'Cambodia', 'Thailand', 'Laos', 'Myanmar', 'Vietnam',\n",
       "       'North Korea', 'South Korea', 'Mongolia', 'India', 'Bangladesh',\n",
       "       'Bhutan', 'Nepal', 'Pakistan', 'Afghanistan', 'Tajikistan',\n",
       "       'Kyrgyzstan', 'Turkmenistan', 'Iran', 'Syria', 'Armenia', 'Sweden',\n",
       "       'Belarus', 'Ukraine', 'Poland', 'Austria', 'Hungary', 'Moldova',\n",
       "       'Romania', 'Lithuania', 'Latvia', 'Estonia', 'Germany', 'Bulgaria',\n",
       "       'Greece', 'Turkey', 'Albania', 'Croatia', 'Switzerland',\n",
       "       'Luxembourg', 'Belgium', 'Netherlands', 'Portugal', 'Spain',\n",
       "       'Ireland', 'New Caledonia', 'Solomon Is.', 'New Zealand',\n",
       "       'Australia', 'Sri Lanka', 'China', 'Taiwan', 'Italy', 'Denmark',\n",
       "       'United Kingdom', 'Iceland', 'Azerbaijan', 'Georgia',\n",
       "       'Philippines', 'Malaysia', 'Brunei', 'Slovenia', 'Finland',\n",
       "       'Slovakia', 'Czechia', 'Eritrea', 'Japan', 'Paraguay', 'Yemen',\n",
       "       'Saudi Arabia', 'Antarctica', 'N. Cyprus', 'Cyprus', 'Morocco',\n",
       "       'Egypt', 'Libya', 'Ethiopia', 'Djibouti', 'Somaliland', 'Uganda',\n",
       "       'Rwanda', 'Bosnia and Herz.', 'Macedonia', 'Serbia', 'Montenegro',\n",
       "       'Kosovo', 'Trinidad and Tobago', 'S. Sudan'], dtype=object)"
      ]
     },
     "execution_count": 302,
     "metadata": {},
     "output_type": "execute_result"
    }
   ],
   "source": [
    "#graficar el mapa\n",
    "world.name.unique()"
   ]
  },
  {
   "cell_type": "code",
   "execution_count": 303,
   "metadata": {
    "colab": {
     "base_uri": "https://localhost:8080/",
     "height": 476
    },
    "id": "swDogh7dfusl",
    "outputId": "666073c5-77ef-4a17-d146-5d7be00e6f1d"
   },
   "outputs": [
    {
     "data": {
      "image/png": "[encoded data removed]",
      "text/plain": [
       "<Figure size 720x720 with 1 Axes>"
      ]
     },
     "metadata": {},
     "output_type": "display_data"
    }
   ],
   "source": [
    "fig, gax = plt.subplots(figsize=(10,10))\n",
    "\n",
    "# By only plotting rows in which the continent is 'South America' we only plot SA.\n",
    "world.query(\"name == 'United States of America'\").plot(ax=gax, edgecolor='black',color='white')\n",
    "\n",
    "# By the way, if you haven't read the book 'longitude' by Dava Sobel, you should...\n",
    "gax.set_xlabel('longitude')\n",
    "gax.set_ylabel('latitude')\n",
    "\n",
    "gax.spines['top'].set_visible(False)\n",
    "gax.spines['right'].set_visible(False)"
   ]
  },
  {
   "cell_type": "code",
   "execution_count": 304,
   "metadata": {
    "colab": {
     "base_uri": "https://localhost:8080/",
     "height": 381
    },
    "id": "OR0ydTOvf_Xp",
    "outputId": "9138b4b8-6c2f-4887-bb39-b34e92c6aac4"
   },
   "outputs": [
    {
     "data": {
      "image/png": "[encoded data removed]",
      "text/plain": [
       "<Figure size 720x720 with 1 Axes>"
      ]
     },
     "metadata": {},
     "output_type": "display_data"
    }
   ],
   "source": [
    "# Step 3: Plot the cities onto the map\n",
    "# We mostly use the code from before --- we still want the country borders plotted --- and we\n",
    "# add a command to plot the cities\n",
    "fig, gax = plt.subplots(figsize=(10,10))\n",
    "\n",
    "# By only plotting rows in which the continent is 'South America' we only plot, well,\n",
    "# South America.\n",
    "world.query(\"name == 'United States of America'\").plot(ax = gax, edgecolor='black', color='white')\n",
    "\n",
    "# This plot the cities. It's the same syntax, but we are plotting from a different GeoDataFrame.\n",
    "# I want the cities as pale red dots.\n",
    "gdf.plot(ax=gax, color='red', alpha = 0.5)\n",
    "\n",
    "gax.set_xlabel('longitude')\n",
    "gax.set_ylabel('latitude')\n",
    "gax.set_title('Target en Estados Unidos')\n",
    "\n",
    "gax.spines['top'].set_visible(False)\n",
    "gax.spines['right'].set_visible(False)\n",
    "\n",
    "plt.show()"
   ]
  },
  {
   "cell_type": "markdown",
   "metadata": {
    "id": "SMkonhsqfgSf"
   },
   "source": [
    "¿qué tal ahora?, tiene mayor sentido verdad, entonces los datos lejanos no eran atípicos, de aquí la importancia de ver los datos con el tipo de gráfica correcta.\n",
    "\n",
    "Ahora sí, implementa K means a los datos de latitud y longitud :) y encuentra donde colocar los almacenes. \n",
    "\n",
    "Nota: si te llama la atención implementar alguna otra visualización con otra librería, lo puedes hacer, no hay restricciones."
   ]
  },
  {
   "cell_type": "code",
   "execution_count": 305,
   "metadata": {
    "id": "IfXq2ieSgD2e"
   },
   "outputs": [],
   "source": [
    "#tu codigo aquí"
   ]
  },
  {
   "cell_type": "markdown",
   "metadata": {},
   "source": [
    "Ahora imagina que somos parte del equipo de data science de la empresa Target, una de las tiendas con mayor presencia en Estados Unidos. El departamento de logistica acude a nosotros para saber dónde le conviene poner sus almacenes, para que se optimice el gasto de gasolina, los tiempos de entrega de los productos y se disminuyan costos. Para ello, nos pasan los datos de latitud y longitud de cada una de las tiendas.\n",
    "\n",
    "Encuentra el numero ideal de almacenes, justifica tu respuesta:\n",
    "\n",
    "Encuentra las latitudes y longitudes de los almacenes, ¿qué ciudad es?, ¿a cuantas tiendas va surtir?, ¿sabes a que distancia estará?\n",
    "¿Cómo elegiste el número de almacenes?, justifica tu respuesta técnicamente."
   ]
  },
  {
   "cell_type": "code",
   "execution_count": 306,
   "metadata": {},
   "outputs": [
    {
     "data": {
      "text/plain": [
       "1839"
      ]
     },
     "execution_count": 306,
     "metadata": {},
     "output_type": "execute_result"
    }
   ],
   "source": [
    "len(latlong)"
   ]
  },
  {
   "cell_type": "markdown",
   "metadata": {},
   "source": [
    "# Observaciones preliminares\n",
    "* Son 1839 tiendas que tienen que ser alimentadas por x número de almacenes\n",
    "* Se observa mas densidad de tiendas a los extremos de estados unidos (las costas) \n"
   ]
  },
  {
   "cell_type": "code",
   "execution_count": 307,
   "metadata": {},
   "outputs": [],
   "source": [
    "# importamos librerias\n",
    "from sklearn.cluster import KMeans\n",
    "import geopy.distance"
   ]
  },
  {
   "cell_type": "markdown",
   "metadata": {},
   "source": [
    "## Estimar número optimo de clusters (calculando inertia y graficando)"
   ]
  },
  {
   "cell_type": "code",
   "execution_count": 308,
   "metadata": {},
   "outputs": [
    {
     "data": {
      "image/png": "[encoded data removed]",
      "text/plain": [
       "<Figure size 1080x1080 with 1 Axes>"
      ]
     },
     "metadata": {},
     "output_type": "display_data"
    }
   ],
   "source": [
    "kmeans_per_k = [KMeans(n_clusters=k, random_state=42).fit(latlong)\n",
    "                for k in range(1, 20)]\n",
    "inertias = [model.inertia_ for model in kmeans_per_k]\n",
    "\n",
    "plt.figure(figsize=(15, 15));\n",
    "plt.title('Inertias por cantidad de elementos en cluster')\n",
    "plt.plot(range(1, 20), inertias, \"bo-\");\n",
    "plt.xlabel(\"$k$\");\n",
    "plt.ylabel(\"Inertia\");\n",
    "plt.ylim(0,300000);"
   ]
  },
  {
   "cell_type": "markdown",
   "metadata": {},
   "source": [
    "## Codo se forma en K = 10 en mi estimación. \n",
    "## Podemos usar metodo alterno descrito en (Aurélien Géron, 2022)"
   ]
  },
  {
   "cell_type": "code",
   "execution_count": 309,
   "metadata": {},
   "outputs": [],
   "source": [
    "from sklearn.metrics import silhouette_score"
   ]
  },
  {
   "cell_type": "code",
   "execution_count": 310,
   "metadata": {},
   "outputs": [
    {
     "data": {
      "text/plain": [
       "0.5405606051728992"
      ]
     },
     "execution_count": 310,
     "metadata": {},
     "output_type": "execute_result"
    }
   ],
   "source": [
    "silhouette_score(latlong, kmeans.labels_)"
   ]
  },
  {
   "cell_type": "code",
   "execution_count": 311,
   "metadata": {},
   "outputs": [
    {
     "data": {
      "image/png": "[encoded data removed]",
      "text/plain": [
       "<Figure size 720x720 with 1 Axes>"
      ]
     },
     "metadata": {},
     "output_type": "display_data"
    }
   ],
   "source": [
    "silhouette_scores = [silhouette_score(latlong, model.labels_)\n",
    "                     for model in kmeans_per_k[1:]]\n",
    "\n",
    "silhouette_scores\n",
    "plt.figure(figsize=(10, 10))\n",
    "plt.plot(range(0, 18), silhouette_scores, \"bo-\")\n",
    "plt.xlabel(\"$k$\")\n",
    "plt.ylabel(\"Silhouette score\")\n",
    "plt.grid()\n",
    "plt.title('Silhouette plot')\n",
    "plt.show()"
   ]
  },
  {
   "cell_type": "markdown",
   "metadata": {},
   "source": [
    "## Basado en esta visualización escogemos K=8"
   ]
  },
  {
   "cell_type": "code",
   "execution_count": 312,
   "metadata": {},
   "outputs": [],
   "source": [
    "k = 8\n",
    "kmeans = KMeans(n_clusters=k, random_state=42)\n",
    "y_pred = kmeans.fit_predict(latlong)"
   ]
  },
  {
   "cell_type": "code",
   "execution_count": 313,
   "metadata": {},
   "outputs": [],
   "source": [
    "latlong1=latlong.copy(deep=True)"
   ]
  },
  {
   "cell_type": "code",
   "execution_count": 314,
   "metadata": {},
   "outputs": [],
   "source": [
    "latlong1['labels']=kmeans.labels_"
   ]
  },
  {
   "cell_type": "code",
   "execution_count": 315,
   "metadata": {},
   "outputs": [
    {
     "data": {
      "text/html": [
       "<div>\n",
       "<style scoped>\n",
       "    .dataframe tbody tr th:only-of-type {\n",
       "        vertical-align: middle;\n",
       "    }\n",
       "\n",
       "    .dataframe tbody tr th {\n",
       "        vertical-align: top;\n",
       "    }\n",
       "\n",
       "    .dataframe thead th {\n",
       "        text-align: right;\n",
       "    }\n",
       "</style>\n",
       "<table border=\"1\" class=\"dataframe\">\n",
       "  <thead>\n",
       "    <tr style=\"text-align: right;\">\n",
       "      <th></th>\n",
       "      <th>latitude</th>\n",
       "      <th>longitude</th>\n",
       "      <th>labels</th>\n",
       "    </tr>\n",
       "  </thead>\n",
       "  <tbody>\n",
       "    <tr>\n",
       "      <th>0</th>\n",
       "      <td>33.224225</td>\n",
       "      <td>-86.804174</td>\n",
       "      <td>4</td>\n",
       "    </tr>\n",
       "    <tr>\n",
       "      <th>1</th>\n",
       "      <td>33.334550</td>\n",
       "      <td>-86.989778</td>\n",
       "      <td>4</td>\n",
       "    </tr>\n",
       "    <tr>\n",
       "      <th>2</th>\n",
       "      <td>30.602875</td>\n",
       "      <td>-87.895932</td>\n",
       "      <td>4</td>\n",
       "    </tr>\n",
       "    <tr>\n",
       "      <th>3</th>\n",
       "      <td>34.560148</td>\n",
       "      <td>-86.971559</td>\n",
       "      <td>4</td>\n",
       "    </tr>\n",
       "    <tr>\n",
       "      <th>4</th>\n",
       "      <td>31.266061</td>\n",
       "      <td>-85.446422</td>\n",
       "      <td>4</td>\n",
       "    </tr>\n",
       "    <tr>\n",
       "      <th>...</th>\n",
       "      <td>...</td>\n",
       "      <td>...</td>\n",
       "      <td>...</td>\n",
       "    </tr>\n",
       "    <tr>\n",
       "      <th>1834</th>\n",
       "      <td>43.034293</td>\n",
       "      <td>-88.176840</td>\n",
       "      <td>2</td>\n",
       "    </tr>\n",
       "    <tr>\n",
       "      <th>1835</th>\n",
       "      <td>42.989604</td>\n",
       "      <td>-88.259806</td>\n",
       "      <td>2</td>\n",
       "    </tr>\n",
       "    <tr>\n",
       "      <th>1836</th>\n",
       "      <td>42.846799</td>\n",
       "      <td>-106.264166</td>\n",
       "      <td>5</td>\n",
       "    </tr>\n",
       "    <tr>\n",
       "      <th>1837</th>\n",
       "      <td>41.162019</td>\n",
       "      <td>-104.800048</td>\n",
       "      <td>5</td>\n",
       "    </tr>\n",
       "    <tr>\n",
       "      <th>1838</th>\n",
       "      <td>43.469617</td>\n",
       "      <td>-110.789456</td>\n",
       "      <td>5</td>\n",
       "    </tr>\n",
       "  </tbody>\n",
       "</table>\n",
       "<p>1839 rows × 3 columns</p>\n",
       "</div>"
      ],
      "text/plain": [
       "       latitude   longitude  labels\n",
       "0     33.224225  -86.804174       4\n",
       "1     33.334550  -86.989778       4\n",
       "2     30.602875  -87.895932       4\n",
       "3     34.560148  -86.971559       4\n",
       "4     31.266061  -85.446422       4\n",
       "...         ...         ...     ...\n",
       "1834  43.034293  -88.176840       2\n",
       "1835  42.989604  -88.259806       2\n",
       "1836  42.846799 -106.264166       5\n",
       "1837  41.162019 -104.800048       5\n",
       "1838  43.469617 -110.789456       5\n",
       "\n",
       "[1839 rows x 3 columns]"
      ]
     },
     "execution_count": 315,
     "metadata": {},
     "output_type": "execute_result"
    }
   ],
   "source": [
    "latlong1"
   ]
  },
  {
   "cell_type": "code",
   "execution_count": 316,
   "metadata": {},
   "outputs": [],
   "source": [
    "def funcenter(label,center):\n",
    "    return center[label]"
   ]
  },
  {
   "cell_type": "code",
   "execution_count": 317,
   "metadata": {},
   "outputs": [],
   "source": [
    "res=funcenter(kmeans.labels_,kmeans.cluster_centers_)"
   ]
  },
  {
   "cell_type": "code",
   "execution_count": 318,
   "metadata": {},
   "outputs": [
    {
     "data": {
      "text/plain": [
       "array([[  31.10819903,  -82.60386029],\n",
       "       [  31.10819903,  -82.60386029],\n",
       "       [  31.10819903,  -82.60386029],\n",
       "       ...,\n",
       "       [  37.56677907, -108.56162352],\n",
       "       [  37.56677907, -108.56162352],\n",
       "       [  37.56677907, -108.56162352]])"
      ]
     },
     "execution_count": 318,
     "metadata": {},
     "output_type": "execute_result"
    }
   ],
   "source": [
    "res"
   ]
  },
  {
   "cell_type": "code",
   "execution_count": 319,
   "metadata": {},
   "outputs": [],
   "source": [
    "latlong1['latitude_c']=res[:,0]"
   ]
  },
  {
   "cell_type": "code",
   "execution_count": 320,
   "metadata": {},
   "outputs": [],
   "source": [
    "latlong1['longitude_c']=res[:,1]"
   ]
  },
  {
   "cell_type": "code",
   "execution_count": 321,
   "metadata": {},
   "outputs": [
    {
     "data": {
      "text/html": [
       "<div>\n",
       "<style scoped>\n",
       "    .dataframe tbody tr th:only-of-type {\n",
       "        vertical-align: middle;\n",
       "    }\n",
       "\n",
       "    .dataframe tbody tr th {\n",
       "        vertical-align: top;\n",
       "    }\n",
       "\n",
       "    .dataframe thead th {\n",
       "        text-align: right;\n",
       "    }\n",
       "</style>\n",
       "<table border=\"1\" class=\"dataframe\">\n",
       "  <thead>\n",
       "    <tr style=\"text-align: right;\">\n",
       "      <th></th>\n",
       "      <th>latitude</th>\n",
       "      <th>longitude</th>\n",
       "      <th>labels</th>\n",
       "      <th>latitude_c</th>\n",
       "      <th>longitude_c</th>\n",
       "    </tr>\n",
       "  </thead>\n",
       "  <tbody>\n",
       "    <tr>\n",
       "      <th>0</th>\n",
       "      <td>33.224225</td>\n",
       "      <td>-86.804174</td>\n",
       "      <td>4</td>\n",
       "      <td>31.108199</td>\n",
       "      <td>-82.603860</td>\n",
       "    </tr>\n",
       "    <tr>\n",
       "      <th>1</th>\n",
       "      <td>33.334550</td>\n",
       "      <td>-86.989778</td>\n",
       "      <td>4</td>\n",
       "      <td>31.108199</td>\n",
       "      <td>-82.603860</td>\n",
       "    </tr>\n",
       "    <tr>\n",
       "      <th>2</th>\n",
       "      <td>30.602875</td>\n",
       "      <td>-87.895932</td>\n",
       "      <td>4</td>\n",
       "      <td>31.108199</td>\n",
       "      <td>-82.603860</td>\n",
       "    </tr>\n",
       "    <tr>\n",
       "      <th>3</th>\n",
       "      <td>34.560148</td>\n",
       "      <td>-86.971559</td>\n",
       "      <td>4</td>\n",
       "      <td>31.108199</td>\n",
       "      <td>-82.603860</td>\n",
       "    </tr>\n",
       "    <tr>\n",
       "      <th>4</th>\n",
       "      <td>31.266061</td>\n",
       "      <td>-85.446422</td>\n",
       "      <td>4</td>\n",
       "      <td>31.108199</td>\n",
       "      <td>-82.603860</td>\n",
       "    </tr>\n",
       "    <tr>\n",
       "      <th>...</th>\n",
       "      <td>...</td>\n",
       "      <td>...</td>\n",
       "      <td>...</td>\n",
       "      <td>...</td>\n",
       "      <td>...</td>\n",
       "    </tr>\n",
       "    <tr>\n",
       "      <th>1834</th>\n",
       "      <td>43.034293</td>\n",
       "      <td>-88.176840</td>\n",
       "      <td>2</td>\n",
       "      <td>41.627442</td>\n",
       "      <td>-88.942735</td>\n",
       "    </tr>\n",
       "    <tr>\n",
       "      <th>1835</th>\n",
       "      <td>42.989604</td>\n",
       "      <td>-88.259806</td>\n",
       "      <td>2</td>\n",
       "      <td>41.627442</td>\n",
       "      <td>-88.942735</td>\n",
       "    </tr>\n",
       "    <tr>\n",
       "      <th>1836</th>\n",
       "      <td>42.846799</td>\n",
       "      <td>-106.264166</td>\n",
       "      <td>5</td>\n",
       "      <td>37.566779</td>\n",
       "      <td>-108.561624</td>\n",
       "    </tr>\n",
       "    <tr>\n",
       "      <th>1837</th>\n",
       "      <td>41.162019</td>\n",
       "      <td>-104.800048</td>\n",
       "      <td>5</td>\n",
       "      <td>37.566779</td>\n",
       "      <td>-108.561624</td>\n",
       "    </tr>\n",
       "    <tr>\n",
       "      <th>1838</th>\n",
       "      <td>43.469617</td>\n",
       "      <td>-110.789456</td>\n",
       "      <td>5</td>\n",
       "      <td>37.566779</td>\n",
       "      <td>-108.561624</td>\n",
       "    </tr>\n",
       "  </tbody>\n",
       "</table>\n",
       "<p>1839 rows × 5 columns</p>\n",
       "</div>"
      ],
      "text/plain": [
       "       latitude   longitude  labels  latitude_c  longitude_c\n",
       "0     33.224225  -86.804174       4   31.108199   -82.603860\n",
       "1     33.334550  -86.989778       4   31.108199   -82.603860\n",
       "2     30.602875  -87.895932       4   31.108199   -82.603860\n",
       "3     34.560148  -86.971559       4   31.108199   -82.603860\n",
       "4     31.266061  -85.446422       4   31.108199   -82.603860\n",
       "...         ...         ...     ...         ...          ...\n",
       "1834  43.034293  -88.176840       2   41.627442   -88.942735\n",
       "1835  42.989604  -88.259806       2   41.627442   -88.942735\n",
       "1836  42.846799 -106.264166       5   37.566779  -108.561624\n",
       "1837  41.162019 -104.800048       5   37.566779  -108.561624\n",
       "1838  43.469617 -110.789456       5   37.566779  -108.561624\n",
       "\n",
       "[1839 rows x 5 columns]"
      ]
     },
     "execution_count": 321,
     "metadata": {},
     "output_type": "execute_result"
    }
   ],
   "source": [
    "latlong1"
   ]
  },
  {
   "cell_type": "code",
   "execution_count": 322,
   "metadata": {},
   "outputs": [],
   "source": [
    "# Calcular distancas\n",
    "def my_distancias(row):\n",
    "    tup1 = (row['latitude'],row['longitude'])\n",
    "    tup2 = (row['latitude_c'],row['longitude_c'])\n",
    "    return geopy.distance.geodesic(tup1, tup2).km   \n",
    "\n",
    "distancias=latlong1.apply(my_distancias, axis=1)"
   ]
  },
  {
   "cell_type": "code",
   "execution_count": 323,
   "metadata": {},
   "outputs": [],
   "source": [
    "latlong1['distances_to_center']=distancias"
   ]
  },
  {
   "cell_type": "code",
   "execution_count": 324,
   "metadata": {},
   "outputs": [
    {
     "data": {
      "text/html": [
       "<div>\n",
       "<style scoped>\n",
       "    .dataframe tbody tr th:only-of-type {\n",
       "        vertical-align: middle;\n",
       "    }\n",
       "\n",
       "    .dataframe tbody tr th {\n",
       "        vertical-align: top;\n",
       "    }\n",
       "\n",
       "    .dataframe thead th {\n",
       "        text-align: right;\n",
       "    }\n",
       "</style>\n",
       "<table border=\"1\" class=\"dataframe\">\n",
       "  <thead>\n",
       "    <tr style=\"text-align: right;\">\n",
       "      <th></th>\n",
       "      <th>latitude</th>\n",
       "      <th>longitude</th>\n",
       "      <th>labels</th>\n",
       "      <th>latitude_c</th>\n",
       "      <th>longitude_c</th>\n",
       "      <th>distances_to_center</th>\n",
       "    </tr>\n",
       "  </thead>\n",
       "  <tbody>\n",
       "    <tr>\n",
       "      <th>0</th>\n",
       "      <td>33.224225</td>\n",
       "      <td>-86.804174</td>\n",
       "      <td>4</td>\n",
       "      <td>31.108199</td>\n",
       "      <td>-82.603860</td>\n",
       "      <td>460.391924</td>\n",
       "    </tr>\n",
       "    <tr>\n",
       "      <th>1</th>\n",
       "      <td>33.334550</td>\n",
       "      <td>-86.989778</td>\n",
       "      <td>4</td>\n",
       "      <td>31.108199</td>\n",
       "      <td>-82.603860</td>\n",
       "      <td>481.469169</td>\n",
       "    </tr>\n",
       "    <tr>\n",
       "      <th>2</th>\n",
       "      <td>30.602875</td>\n",
       "      <td>-87.895932</td>\n",
       "      <td>4</td>\n",
       "      <td>31.108199</td>\n",
       "      <td>-82.603860</td>\n",
       "      <td>509.216179</td>\n",
       "    </tr>\n",
       "    <tr>\n",
       "      <th>3</th>\n",
       "      <td>34.560148</td>\n",
       "      <td>-86.971559</td>\n",
       "      <td>4</td>\n",
       "      <td>31.108199</td>\n",
       "      <td>-82.603860</td>\n",
       "      <td>560.043271</td>\n",
       "    </tr>\n",
       "    <tr>\n",
       "      <th>4</th>\n",
       "      <td>31.266061</td>\n",
       "      <td>-85.446422</td>\n",
       "      <td>4</td>\n",
       "      <td>31.108199</td>\n",
       "      <td>-82.603860</td>\n",
       "      <td>271.502316</td>\n",
       "    </tr>\n",
       "    <tr>\n",
       "      <th>...</th>\n",
       "      <td>...</td>\n",
       "      <td>...</td>\n",
       "      <td>...</td>\n",
       "      <td>...</td>\n",
       "      <td>...</td>\n",
       "      <td>...</td>\n",
       "    </tr>\n",
       "    <tr>\n",
       "      <th>1834</th>\n",
       "      <td>43.034293</td>\n",
       "      <td>-88.176840</td>\n",
       "      <td>2</td>\n",
       "      <td>41.627442</td>\n",
       "      <td>-88.942735</td>\n",
       "      <td>168.538457</td>\n",
       "    </tr>\n",
       "    <tr>\n",
       "      <th>1835</th>\n",
       "      <td>42.989604</td>\n",
       "      <td>-88.259806</td>\n",
       "      <td>2</td>\n",
       "      <td>41.627442</td>\n",
       "      <td>-88.942735</td>\n",
       "      <td>161.443592</td>\n",
       "    </tr>\n",
       "    <tr>\n",
       "      <th>1836</th>\n",
       "      <td>42.846799</td>\n",
       "      <td>-106.264166</td>\n",
       "      <td>5</td>\n",
       "      <td>37.566779</td>\n",
       "      <td>-108.561624</td>\n",
       "      <td>617.982601</td>\n",
       "    </tr>\n",
       "    <tr>\n",
       "      <th>1837</th>\n",
       "      <td>41.162019</td>\n",
       "      <td>-104.800048</td>\n",
       "      <td>5</td>\n",
       "      <td>37.566779</td>\n",
       "      <td>-108.561624</td>\n",
       "      <td>514.093379</td>\n",
       "    </tr>\n",
       "    <tr>\n",
       "      <th>1838</th>\n",
       "      <td>43.469617</td>\n",
       "      <td>-110.789456</td>\n",
       "      <td>5</td>\n",
       "      <td>37.566779</td>\n",
       "      <td>-108.561624</td>\n",
       "      <td>682.051875</td>\n",
       "    </tr>\n",
       "  </tbody>\n",
       "</table>\n",
       "<p>1839 rows × 6 columns</p>\n",
       "</div>"
      ],
      "text/plain": [
       "       latitude   longitude  labels  latitude_c  longitude_c  \\\n",
       "0     33.224225  -86.804174       4   31.108199   -82.603860   \n",
       "1     33.334550  -86.989778       4   31.108199   -82.603860   \n",
       "2     30.602875  -87.895932       4   31.108199   -82.603860   \n",
       "3     34.560148  -86.971559       4   31.108199   -82.603860   \n",
       "4     31.266061  -85.446422       4   31.108199   -82.603860   \n",
       "...         ...         ...     ...         ...          ...   \n",
       "1834  43.034293  -88.176840       2   41.627442   -88.942735   \n",
       "1835  42.989604  -88.259806       2   41.627442   -88.942735   \n",
       "1836  42.846799 -106.264166       5   37.566779  -108.561624   \n",
       "1837  41.162019 -104.800048       5   37.566779  -108.561624   \n",
       "1838  43.469617 -110.789456       5   37.566779  -108.561624   \n",
       "\n",
       "      distances_to_center  \n",
       "0              460.391924  \n",
       "1              481.469169  \n",
       "2              509.216179  \n",
       "3              560.043271  \n",
       "4              271.502316  \n",
       "...                   ...  \n",
       "1834           168.538457  \n",
       "1835           161.443592  \n",
       "1836           617.982601  \n",
       "1837           514.093379  \n",
       "1838           682.051875  \n",
       "\n",
       "[1839 rows x 6 columns]"
      ]
     },
     "execution_count": 324,
     "metadata": {},
     "output_type": "execute_result"
    }
   ],
   "source": [
    "latlong1"
   ]
  },
  {
   "cell_type": "code",
   "execution_count": 325,
   "metadata": {},
   "outputs": [],
   "source": [
    "cities=df['name'].values"
   ]
  },
  {
   "cell_type": "code",
   "execution_count": 326,
   "metadata": {},
   "outputs": [],
   "source": [
    "latlong1['cities']=cities"
   ]
  },
  {
   "cell_type": "code",
   "execution_count": 327,
   "metadata": {},
   "outputs": [],
   "source": [
    "#from geopy.geocoders.yandex import location\n",
    "from geopy.geocoders import Nominatim\n",
    "from geopy.distance import geodesic"
   ]
  },
  {
   "cell_type": "code",
   "execution_count": 328,
   "metadata": {},
   "outputs": [],
   "source": [
    "geolocator = Nominatim(user_agent=\"myapp\")"
   ]
  },
  {
   "cell_type": "code",
   "execution_count": 329,
   "metadata": {},
   "outputs": [],
   "source": [
    "direcciones=[]\n",
    "for item in kmeans.cluster_centers_:\n",
    "    r=str(item[0])+\",\"+str(item[1])\n",
    "    location = geolocator.reverse(r)\n",
    "    direcciones.append(location.address)"
   ]
  },
  {
   "cell_type": "markdown",
   "metadata": {},
   "source": [
    "## Localización de almacenes (coordenadas)"
   ]
  },
  {
   "cell_type": "code",
   "execution_count": 331,
   "metadata": {},
   "outputs": [
    {
     "data": {
      "text/plain": [
       "array([[  40.34460877,  -75.66614111],\n",
       "       [  46.97944073, -122.66305544],\n",
       "       [  41.62744206,  -88.94273528],\n",
       "       [  35.43471729, -118.94132621],\n",
       "       [  31.10819903,  -82.60386029],\n",
       "       [  37.56677907, -108.56162352],\n",
       "       [  32.007881  ,  -96.19918029],\n",
       "       [  20.94542771, -157.31225085]])"
      ]
     },
     "execution_count": 331,
     "metadata": {},
     "output_type": "execute_result"
    }
   ],
   "source": [
    "kmeans.cluster_centers_"
   ]
  },
  {
   "cell_type": "markdown",
   "metadata": {},
   "source": [
    "## Ciudades y direcciones que representa"
   ]
  },
  {
   "cell_type": "code",
   "execution_count": 332,
   "metadata": {},
   "outputs": [
    {
     "name": "stdout",
     "output_type": "stream",
     "text": [
      "['South Cleaver School Road, Colebrookdale Township, Berks County, Pennsylvania, 19512, United States', 'Thurston County, Washington, United States', '3577, North 48th Road, Wyoming Township, Lee County, Illinois, 61353, United States', '5666, Adolphus Avenue, Kern River Oil Field, Kern County, California, 93308, United States', 'Jim Mixon Road, Ware County, Georgia, 31550, United States', 'Montezuma County, Colorado, United States', 'US 287, Navarro County, Texas, United States', 'United States']\n"
     ]
    }
   ],
   "source": [
    "print(direcciones)"
   ]
  },
  {
   "cell_type": "markdown",
   "metadata": {},
   "source": [
    "## distancias promedio de cada centro de cluster a los miembros de su grupo"
   ]
  },
  {
   "cell_type": "code",
   "execution_count": 333,
   "metadata": {},
   "outputs": [
    {
     "data": {
      "text/plain": [
       "labels\n",
       "0    279.149892\n",
       "1    291.982579\n",
       "2    378.319665\n",
       "3    274.754967\n",
       "4    411.187938\n",
       "5    507.268910\n",
       "6    326.809444\n",
       "7    138.257686\n",
       "Name: distances_to_center, dtype: float64"
      ]
     },
     "execution_count": 333,
     "metadata": {},
     "output_type": "execute_result"
    }
   ],
   "source": [
    "latlong1.groupby(['labels']).mean()['distances_to_center']"
   ]
  },
  {
   "cell_type": "markdown",
   "metadata": {},
   "source": [
    "## Ciudades a surtir por almacen"
   ]
  },
  {
   "cell_type": "code",
   "execution_count": 334,
   "metadata": {},
   "outputs": [
    {
     "data": {
      "text/plain": [
       "labels\n",
       "0    485\n",
       "1     73\n",
       "2    451\n",
       "3    219\n",
       "4    261\n",
       "5    132\n",
       "6    210\n",
       "7      8\n",
       "Name: cities, dtype: int64"
      ]
     },
     "execution_count": 334,
     "metadata": {},
     "output_type": "execute_result"
    }
   ],
   "source": [
    "latlong1.groupby(['labels'])['cities'].count()"
   ]
  },
  {
   "cell_type": "markdown",
   "metadata": {},
   "source": [
    "Adicionalmente, en el notebook notaras que al inicio exploramos los datos y los graficamos de manera simple, después nos auxiliamos de una librería de datos geográficos.\n",
    "\n",
    "¿qué librerías nos pueden ayudar a graficar este tipo de datos?\n",
    "¿Consideras importante que se grafique en un mapa?, ¿por qué?\n",
    "Agrega las conclusiones"
   ]
  },
  {
   "cell_type": "markdown",
   "metadata": {},
   "source": [
    "* Las librerías mas comunes son\n",
    "* Arcpy https://pro.arcgis.com/en/pro-app/arcpy/get-started/what-is-arcpy-.htm\n",
    "* GeoPandas\n",
    "* GDAL/OGR https://gdal.org/"
   ]
  },
  {
   "cell_type": "markdown",
   "metadata": {},
   "source": [
    "¿Consideras importante que se grafique en un mapa?"
   ]
  },
  {
   "cell_type": "markdown",
   "metadata": {},
   "source": [
    "* ¿Consideras importante que se grafique en un mapa?\n",
    "* Si, ayuda mucho poder ver el resultado. No solo se debe depender de las metricas y\n",
    "* cantidades calculadas"
   ]
  },
  {
   "cell_type": "code",
   "execution_count": 345,
   "metadata": {},
   "outputs": [],
   "source": [
    "centers_df = pd.DataFrame(data = kmeans.cluster_centers_, columns=['latitude','longitude'])"
   ]
  },
  {
   "cell_type": "code",
   "execution_count": 346,
   "metadata": {},
   "outputs": [],
   "source": [
    "centers_df['Coordinates'] = list(zip(centers_df.longitude,centers_df.latitude ))\n",
    "centers_df['Coordinates'] = centers_df['Coordinates'].apply(Point)"
   ]
  },
  {
   "cell_type": "code",
   "execution_count": 347,
   "metadata": {},
   "outputs": [
    {
     "data": {
      "text/html": [
       "<div>\n",
       "<style scoped>\n",
       "    .dataframe tbody tr th:only-of-type {\n",
       "        vertical-align: middle;\n",
       "    }\n",
       "\n",
       "    .dataframe tbody tr th {\n",
       "        vertical-align: top;\n",
       "    }\n",
       "\n",
       "    .dataframe thead th {\n",
       "        text-align: right;\n",
       "    }\n",
       "</style>\n",
       "<table border=\"1\" class=\"dataframe\">\n",
       "  <thead>\n",
       "    <tr style=\"text-align: right;\">\n",
       "      <th></th>\n",
       "      <th>latitude</th>\n",
       "      <th>longitude</th>\n",
       "      <th>Coordinates</th>\n",
       "    </tr>\n",
       "  </thead>\n",
       "  <tbody>\n",
       "    <tr>\n",
       "      <th>0</th>\n",
       "      <td>40.344609</td>\n",
       "      <td>-75.666141</td>\n",
       "      <td>POINT (-75.66614 40.34461)</td>\n",
       "    </tr>\n",
       "    <tr>\n",
       "      <th>1</th>\n",
       "      <td>46.979441</td>\n",
       "      <td>-122.663055</td>\n",
       "      <td>POINT (-122.66306 46.97944)</td>\n",
       "    </tr>\n",
       "    <tr>\n",
       "      <th>2</th>\n",
       "      <td>41.627442</td>\n",
       "      <td>-88.942735</td>\n",
       "      <td>POINT (-88.94274 41.62744)</td>\n",
       "    </tr>\n",
       "    <tr>\n",
       "      <th>3</th>\n",
       "      <td>35.434717</td>\n",
       "      <td>-118.941326</td>\n",
       "      <td>POINT (-118.94133 35.43472)</td>\n",
       "    </tr>\n",
       "    <tr>\n",
       "      <th>4</th>\n",
       "      <td>31.108199</td>\n",
       "      <td>-82.603860</td>\n",
       "      <td>POINT (-82.60386 31.10820)</td>\n",
       "    </tr>\n",
       "  </tbody>\n",
       "</table>\n",
       "</div>"
      ],
      "text/plain": [
       "    latitude   longitude                  Coordinates\n",
       "0  40.344609  -75.666141   POINT (-75.66614 40.34461)\n",
       "1  46.979441 -122.663055  POINT (-122.66306 46.97944)\n",
       "2  41.627442  -88.942735   POINT (-88.94274 41.62744)\n",
       "3  35.434717 -118.941326  POINT (-118.94133 35.43472)\n",
       "4  31.108199  -82.603860   POINT (-82.60386 31.10820)"
      ]
     },
     "execution_count": 347,
     "metadata": {},
     "output_type": "execute_result"
    }
   ],
   "source": [
    "centers_df = gpd.GeoDataFrame(centers_df,geometry='Coordinates')\n",
    "centers_df.head()"
   ]
  },
  {
   "cell_type": "code",
   "execution_count": 350,
   "metadata": {},
   "outputs": [
    {
     "data": {
      "image/png": "[encoded data removed]",
      "text/plain": [
       "<Figure size 720x720 with 1 Axes>"
      ]
     },
     "metadata": {},
     "output_type": "display_data"
    }
   ],
   "source": [
    "fig, gax = plt.subplots(figsize=(10,10))\n",
    "\n",
    "# By only plotting rows in which the continent is 'South America' we only plot, well,\n",
    "# South America.\n",
    "world.query(\"name == 'United States of America'\").plot(ax = gax, edgecolor='black', color='white')\n",
    "\n",
    "# This plot the cities. It's the same syntax, but we are plotting from a different GeoDataFrame.\n",
    "# I want the cities as pale red dots.\n",
    "gdf.plot(ax=gax, color='red', alpha = 0.5)\n",
    "centers_df.plot(ax=gax,color='green')\n",
    "\n",
    "gax.set_xlabel('longitude')\n",
    "gax.set_ylabel('latitude')\n",
    "gax.set_title('Target en Estados Unidos y sus almacenes')\n",
    "\n",
    "gax.spines['top'].set_visible(False)\n",
    "gax.spines['right'].set_visible(False)\n",
    "\n",
    "plt.show()"
   ]
  },
  {
   "cell_type": "markdown",
   "metadata": {},
   "source": [
    "* Conclusiones\n",
    "* En este ejercicio pudimos aplicar el método no supervisado de Kmeans. Logramos determinar el número óptimo de almacenes,   donde se localizan, la distancia promedio a recorrer para llevar suministros a las tiendas y el número de tiendas que se   requiere alimentar. \n",
    "* Para el número óptimo de agrupaciones utilizamos las técnicas descritas por (Aurélien Géron, 2022) en su libro de texto. \n",
    "* Este método es muy poderoso y fácil de aplicar. Dominado las librerías GIS se puede lograr visualizaciones sorprendentes. \n"
   ]
  },
  {
   "cell_type": "markdown",
   "metadata": {},
   "source": [
    "# Referencias\n"
   ]
  },
  {
   "cell_type": "markdown",
   "metadata": {},
   "source": [
    "### Aurélien Géron. (2022). Hands-On Machine Learning with Scikit-Learn, Keras, and TensorFlow. “O’Reilly Media, Inc.”"
   ]
  },
  {
   "cell_type": "code",
   "execution_count": null,
   "metadata": {},
   "outputs": [],
   "source": []
  }
 ],
 "metadata": {
  "colab": {
   "provenance": []
  },
  "kernelspec": {
   "display_name": "Python 3",
   "language": "python",
   "name": "python3"
  },
  "language_info": {
   "codemirror_mode": {
    "name": "ipython",
    "version": 3
   },
   "file_extension": ".py",
   "mimetype": "text/x-python",
   "name": "python",
   "nbconvert_exporter": "python",
   "pygments_lexer": "ipython3",
   "version": "3.7.4"
  }
 },
 "nbformat": 4,
 "nbformat_minor": 1
}
