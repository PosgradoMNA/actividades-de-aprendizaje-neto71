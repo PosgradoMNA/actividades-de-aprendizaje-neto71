{
 "cells": [
  {
   "cell_type": "markdown",
   "metadata": {
    "id": "EjUigIi7kytY"
   },
   "source": [
    "# Semana 6 - Visualización"
   ]
  },
  {
   "cell_type": "markdown",
   "metadata": {
    "id": "dPpNUGdWx-KO"
   },
   "source": [
    "**Nombre :** Ernesto Nicanor Santillán Guerrero \n",
    "\n",
    "**Matricula :** A01793675\n",
    "\n",
    "\n",
    "\n",
    "**Materia:** Ciencia y analítica de datos\n",
    "\n",
    "**Profesor:** María de la Paz Rico Fernández\n",
    "\n",
    "**Fecha:** 31 de Octubre de 2022"
   ]
  },
  {
   "cell_type": "markdown",
   "metadata": {},
   "source": [
    "# 1\n",
    "* Descarga los datos y carga el dataset en tu libreta."
   ]
  },
  {
   "cell_type": "code",
   "execution_count": 194,
   "metadata": {},
   "outputs": [],
   "source": [
    "# Librería de manejo de bases\n",
    "import pandas as pd\n",
    "import numpy as np\n",
    "\n",
    "# Librerías de visualización\n",
    "import matplotlib.pyplot as plt\n",
    "import seaborn as sns\n",
    "pd.options.display.max_columns=25\n",
    "%matplotlib inline\n",
    "\n",
    "# Librería de pre procesamiento de datos\n",
    "from sklearn.preprocessing import StandardScaler\n",
    "from sklearn.preprocessing import MinMaxScaler\n",
    "\n",
    "# Librería de PCA\n",
    "from sklearn.decomposition import PCA\n"
   ]
  },
  {
   "cell_type": "code",
   "execution_count": 195,
   "metadata": {},
   "outputs": [],
   "source": [
    "# Datos desde github\n",
    "url = 'https://raw.githubusercontent.com/PosgradoMNA/Actividades_Aprendizaje-/main/default%20of%20credit%20card%20clients.csv'\n",
    "df = pd.read_csv(url)"
   ]
  },
  {
   "cell_type": "markdown",
   "metadata": {
    "id": "Pz0nRTw62Y-B"
   },
   "source": [
    "# 2\n",
    "* Obten la información del DataFrame con los métodos y propiedades: shape, columns, ##head(), dtypes, info(), isna()"
   ]
  },
  {
   "cell_type": "markdown",
   "metadata": {
    "id": "QHvPE6uVGdLa"
   },
   "source": [
    "# Descripción de las variables del  conjunto de datos"
   ]
  },
  {
   "cell_type": "markdown",
   "metadata": {
    "id": "0e8v4RYcN1SD"
   },
   "source": [
    "Dataset information\n",
    "Attribute Information:\n",
    "\n",
    "This research employed a binary variable, default payment (Yes = 1, No = 0), as the response variable. This study reviewed the literature and used the following 23 variables as explanatory variables: \n",
    "\n",
    "X1: Amount of the given credit (NT dollar): it includes both the individual consumer credit and his/her family (supplementary) credit. \n",
    "\n",
    "X2: Gender (1 = male; 2 = female). \n",
    "\n",
    "X3: Education (1 = graduate school; 2 = university; 3 = high school; 4 = others). \n",
    "\n",
    "X4: Marital status (1 = married; 2 = single; 3 = others). \n",
    "\n",
    "X5: Age (year). \n",
    "\n",
    "X6 - X11: History of past payment. We tracked the past monthly payment records (from April to September, 2005) as follows: X6 = the repayment status in September, 2005; X7 = the repayment status in August, 2005; . . .;X11 = the repayment status in April, 2005. The measurement scale for the repayment status is: -1 = pay duly; 1 = payment delay for one month; 2 = payment delay for two months; . . .; 8 = payment delay for eight months; 9 = payment delay for nine months and above. \n",
    "\n",
    "X12-X17: Amount of bill statement (NT dollar). X12 = amount of bill statement in September, 2005; X13 = amount of bill statement in August, 2005; . . .; X17 = amount of bill statement in April, 2005. \n",
    "\n",
    "X18-X23: Amount of previous payment (NT dollar). X18 = amount paid in September, 2005; X19 = amount paid in August, 2005; . . .;X23 = amount paid in April, 2005. "
   ]
  },
  {
   "cell_type": "code",
   "execution_count": 196,
   "metadata": {},
   "outputs": [
    {
     "data": {
      "text/plain": [
       "(30000, 25)"
      ]
     },
     "execution_count": 196,
     "metadata": {},
     "output_type": "execute_result"
    }
   ],
   "source": [
    "# shape\n",
    "df.shape"
   ]
  },
  {
   "cell_type": "code",
   "execution_count": 197,
   "metadata": {},
   "outputs": [
    {
     "name": "stdout",
     "output_type": "stream",
     "text": [
      "Hay 30000 filas y 25 columnas.\n"
     ]
    }
   ],
   "source": [
    "# Revisa el número de columnas y filas\n",
    "print(f\"Hay {df.shape[0]} filas y {df.shape[1]} columnas.\") "
   ]
  },
  {
   "cell_type": "code",
   "execution_count": 198,
   "metadata": {},
   "outputs": [
    {
     "data": {
      "text/plain": [
       "Index(['ID', 'X1', 'X2', 'X3', 'X4', 'X5', 'X6', 'X7', 'X8', 'X9', 'X10',\n",
       "       'X11', 'X12', 'X13', 'X14', 'X15', 'X16', 'X17', 'X18', 'X19', 'X20',\n",
       "       'X21', 'X22', 'X23', 'Y'],\n",
       "      dtype='object')"
      ]
     },
     "execution_count": 198,
     "metadata": {},
     "output_type": "execute_result"
    }
   ],
   "source": [
    "# columnas\n",
    "df.columns"
   ]
  },
  {
   "cell_type": "code",
   "execution_count": 199,
   "metadata": {},
   "outputs": [
    {
     "data": {
      "text/html": [
       "<div>\n",
       "<style scoped>\n",
       "    .dataframe tbody tr th:only-of-type {\n",
       "        vertical-align: middle;\n",
       "    }\n",
       "\n",
       "    .dataframe tbody tr th {\n",
       "        vertical-align: top;\n",
       "    }\n",
       "\n",
       "    .dataframe thead th {\n",
       "        text-align: right;\n",
       "    }\n",
       "</style>\n",
       "<table border=\"1\" class=\"dataframe\">\n",
       "  <thead>\n",
       "    <tr style=\"text-align: right;\">\n",
       "      <th></th>\n",
       "      <th>ID</th>\n",
       "      <th>X1</th>\n",
       "      <th>X2</th>\n",
       "      <th>X3</th>\n",
       "      <th>X4</th>\n",
       "      <th>X5</th>\n",
       "      <th>X6</th>\n",
       "      <th>X7</th>\n",
       "      <th>X8</th>\n",
       "      <th>X9</th>\n",
       "      <th>X10</th>\n",
       "      <th>X11</th>\n",
       "      <th>X12</th>\n",
       "      <th>X13</th>\n",
       "      <th>X14</th>\n",
       "      <th>X15</th>\n",
       "      <th>X16</th>\n",
       "      <th>X17</th>\n",
       "      <th>X18</th>\n",
       "      <th>X19</th>\n",
       "      <th>X20</th>\n",
       "      <th>X21</th>\n",
       "      <th>X22</th>\n",
       "      <th>X23</th>\n",
       "      <th>Y</th>\n",
       "    </tr>\n",
       "  </thead>\n",
       "  <tbody>\n",
       "    <tr>\n",
       "      <th>0</th>\n",
       "      <td>1</td>\n",
       "      <td>20000</td>\n",
       "      <td>2.0</td>\n",
       "      <td>2.0</td>\n",
       "      <td>1.0</td>\n",
       "      <td>24.0</td>\n",
       "      <td>2.0</td>\n",
       "      <td>2.0</td>\n",
       "      <td>-1.0</td>\n",
       "      <td>-1.0</td>\n",
       "      <td>-2.0</td>\n",
       "      <td>-2.0</td>\n",
       "      <td>3913.0</td>\n",
       "      <td>3102.0</td>\n",
       "      <td>689.0</td>\n",
       "      <td>0.0</td>\n",
       "      <td>0.0</td>\n",
       "      <td>0.0</td>\n",
       "      <td>0.0</td>\n",
       "      <td>689.0</td>\n",
       "      <td>0.0</td>\n",
       "      <td>0.0</td>\n",
       "      <td>0.0</td>\n",
       "      <td>0.0</td>\n",
       "      <td>1.0</td>\n",
       "    </tr>\n",
       "    <tr>\n",
       "      <th>1</th>\n",
       "      <td>2</td>\n",
       "      <td>120000</td>\n",
       "      <td>2.0</td>\n",
       "      <td>2.0</td>\n",
       "      <td>2.0</td>\n",
       "      <td>26.0</td>\n",
       "      <td>-1.0</td>\n",
       "      <td>2.0</td>\n",
       "      <td>0.0</td>\n",
       "      <td>0.0</td>\n",
       "      <td>0.0</td>\n",
       "      <td>2.0</td>\n",
       "      <td>2682.0</td>\n",
       "      <td>1725.0</td>\n",
       "      <td>2682.0</td>\n",
       "      <td>3272.0</td>\n",
       "      <td>3455.0</td>\n",
       "      <td>3261.0</td>\n",
       "      <td>0.0</td>\n",
       "      <td>1000.0</td>\n",
       "      <td>1000.0</td>\n",
       "      <td>1000.0</td>\n",
       "      <td>0.0</td>\n",
       "      <td>2000.0</td>\n",
       "      <td>1.0</td>\n",
       "    </tr>\n",
       "    <tr>\n",
       "      <th>2</th>\n",
       "      <td>3</td>\n",
       "      <td>90000</td>\n",
       "      <td>2.0</td>\n",
       "      <td>2.0</td>\n",
       "      <td>2.0</td>\n",
       "      <td>34.0</td>\n",
       "      <td>0.0</td>\n",
       "      <td>0.0</td>\n",
       "      <td>0.0</td>\n",
       "      <td>0.0</td>\n",
       "      <td>0.0</td>\n",
       "      <td>0.0</td>\n",
       "      <td>29239.0</td>\n",
       "      <td>14027.0</td>\n",
       "      <td>13559.0</td>\n",
       "      <td>14331.0</td>\n",
       "      <td>14948.0</td>\n",
       "      <td>15549.0</td>\n",
       "      <td>1518.0</td>\n",
       "      <td>1500.0</td>\n",
       "      <td>1000.0</td>\n",
       "      <td>1000.0</td>\n",
       "      <td>1000.0</td>\n",
       "      <td>5000.0</td>\n",
       "      <td>0.0</td>\n",
       "    </tr>\n",
       "    <tr>\n",
       "      <th>3</th>\n",
       "      <td>4</td>\n",
       "      <td>50000</td>\n",
       "      <td>2.0</td>\n",
       "      <td>2.0</td>\n",
       "      <td>1.0</td>\n",
       "      <td>37.0</td>\n",
       "      <td>0.0</td>\n",
       "      <td>0.0</td>\n",
       "      <td>0.0</td>\n",
       "      <td>0.0</td>\n",
       "      <td>0.0</td>\n",
       "      <td>0.0</td>\n",
       "      <td>46990.0</td>\n",
       "      <td>48233.0</td>\n",
       "      <td>49291.0</td>\n",
       "      <td>28314.0</td>\n",
       "      <td>28959.0</td>\n",
       "      <td>29547.0</td>\n",
       "      <td>2000.0</td>\n",
       "      <td>2019.0</td>\n",
       "      <td>1200.0</td>\n",
       "      <td>1100.0</td>\n",
       "      <td>1069.0</td>\n",
       "      <td>1000.0</td>\n",
       "      <td>0.0</td>\n",
       "    </tr>\n",
       "    <tr>\n",
       "      <th>4</th>\n",
       "      <td>5</td>\n",
       "      <td>50000</td>\n",
       "      <td>1.0</td>\n",
       "      <td>2.0</td>\n",
       "      <td>1.0</td>\n",
       "      <td>57.0</td>\n",
       "      <td>-1.0</td>\n",
       "      <td>0.0</td>\n",
       "      <td>-1.0</td>\n",
       "      <td>0.0</td>\n",
       "      <td>0.0</td>\n",
       "      <td>0.0</td>\n",
       "      <td>8617.0</td>\n",
       "      <td>5670.0</td>\n",
       "      <td>35835.0</td>\n",
       "      <td>20940.0</td>\n",
       "      <td>19146.0</td>\n",
       "      <td>19131.0</td>\n",
       "      <td>2000.0</td>\n",
       "      <td>36681.0</td>\n",
       "      <td>10000.0</td>\n",
       "      <td>9000.0</td>\n",
       "      <td>689.0</td>\n",
       "      <td>679.0</td>\n",
       "      <td>0.0</td>\n",
       "    </tr>\n",
       "  </tbody>\n",
       "</table>\n",
       "</div>"
      ],
      "text/plain": [
       "   ID      X1   X2   X3   X4    X5   X6   X7   X8   X9  X10  X11      X12  \\\n",
       "0   1   20000  2.0  2.0  1.0  24.0  2.0  2.0 -1.0 -1.0 -2.0 -2.0   3913.0   \n",
       "1   2  120000  2.0  2.0  2.0  26.0 -1.0  2.0  0.0  0.0  0.0  2.0   2682.0   \n",
       "2   3   90000  2.0  2.0  2.0  34.0  0.0  0.0  0.0  0.0  0.0  0.0  29239.0   \n",
       "3   4   50000  2.0  2.0  1.0  37.0  0.0  0.0  0.0  0.0  0.0  0.0  46990.0   \n",
       "4   5   50000  1.0  2.0  1.0  57.0 -1.0  0.0 -1.0  0.0  0.0  0.0   8617.0   \n",
       "\n",
       "       X13      X14      X15      X16      X17     X18      X19      X20  \\\n",
       "0   3102.0    689.0      0.0      0.0      0.0     0.0    689.0      0.0   \n",
       "1   1725.0   2682.0   3272.0   3455.0   3261.0     0.0   1000.0   1000.0   \n",
       "2  14027.0  13559.0  14331.0  14948.0  15549.0  1518.0   1500.0   1000.0   \n",
       "3  48233.0  49291.0  28314.0  28959.0  29547.0  2000.0   2019.0   1200.0   \n",
       "4   5670.0  35835.0  20940.0  19146.0  19131.0  2000.0  36681.0  10000.0   \n",
       "\n",
       "      X21     X22     X23    Y  \n",
       "0     0.0     0.0     0.0  1.0  \n",
       "1  1000.0     0.0  2000.0  1.0  \n",
       "2  1000.0  1000.0  5000.0  0.0  \n",
       "3  1100.0  1069.0  1000.0  0.0  \n",
       "4  9000.0   689.0   679.0  0.0  "
      ]
     },
     "execution_count": 199,
     "metadata": {},
     "output_type": "execute_result"
    }
   ],
   "source": [
    "df.head()"
   ]
  },
  {
   "cell_type": "code",
   "execution_count": 200,
   "metadata": {},
   "outputs": [
    {
     "data": {
      "text/plain": [
       "ID       int64\n",
       "X1       int64\n",
       "X2     float64\n",
       "X3     float64\n",
       "X4     float64\n",
       "X5     float64\n",
       "X6     float64\n",
       "X7     float64\n",
       "X8     float64\n",
       "X9     float64\n",
       "X10    float64\n",
       "X11    float64\n",
       "X12    float64\n",
       "X13    float64\n",
       "X14    float64\n",
       "X15    float64\n",
       "X16    float64\n",
       "X17    float64\n",
       "X18    float64\n",
       "X19    float64\n",
       "X20    float64\n",
       "X21    float64\n",
       "X22    float64\n",
       "X23    float64\n",
       "Y      float64\n",
       "dtype: object"
      ]
     },
     "execution_count": 200,
     "metadata": {},
     "output_type": "execute_result"
    }
   ],
   "source": [
    "df.dtypes"
   ]
  },
  {
   "cell_type": "code",
   "execution_count": 201,
   "metadata": {},
   "outputs": [
    {
     "name": "stdout",
     "output_type": "stream",
     "text": [
      "<class 'pandas.core.frame.DataFrame'>\n",
      "RangeIndex: 30000 entries, 0 to 29999\n",
      "Data columns (total 25 columns):\n",
      " #   Column  Non-Null Count  Dtype  \n",
      "---  ------  --------------  -----  \n",
      " 0   ID      30000 non-null  int64  \n",
      " 1   X1      30000 non-null  int64  \n",
      " 2   X2      29999 non-null  float64\n",
      " 3   X3      29998 non-null  float64\n",
      " 4   X4      29998 non-null  float64\n",
      " 5   X5      29995 non-null  float64\n",
      " 6   X6      29997 non-null  float64\n",
      " 7   X7      29995 non-null  float64\n",
      " 8   X8      29993 non-null  float64\n",
      " 9   X9      29991 non-null  float64\n",
      " 10  X10     29984 non-null  float64\n",
      " 11  X11     29986 non-null  float64\n",
      " 12  X12     29989 non-null  float64\n",
      " 13  X13     29989 non-null  float64\n",
      " 14  X14     29987 non-null  float64\n",
      " 15  X15     29985 non-null  float64\n",
      " 16  X16     29983 non-null  float64\n",
      " 17  X17     29990 non-null  float64\n",
      " 18  X18     29992 non-null  float64\n",
      " 19  X19     29991 non-null  float64\n",
      " 20  X20     29992 non-null  float64\n",
      " 21  X21     29989 non-null  float64\n",
      " 22  X22     29989 non-null  float64\n",
      " 23  X23     29995 non-null  float64\n",
      " 24  Y       29997 non-null  float64\n",
      "dtypes: float64(23), int64(2)\n",
      "memory usage: 5.7 MB\n"
     ]
    }
   ],
   "source": [
    "df.info()"
   ]
  },
  {
   "cell_type": "code",
   "execution_count": 202,
   "metadata": {},
   "outputs": [
    {
     "data": {
      "text/plain": [
       "ID      0\n",
       "X1      0\n",
       "X2      1\n",
       "X3      2\n",
       "X4      2\n",
       "X5      5\n",
       "X6      3\n",
       "X7      5\n",
       "X8      7\n",
       "X9      9\n",
       "X10    16\n",
       "X11    14\n",
       "X12    11\n",
       "X13    11\n",
       "X14    13\n",
       "X15    15\n",
       "X16    17\n",
       "X17    10\n",
       "X18     8\n",
       "X19     9\n",
       "X20     8\n",
       "X21    11\n",
       "X22    11\n",
       "X23     5\n",
       "Y       3\n",
       "dtype: int64"
      ]
     },
     "execution_count": 202,
     "metadata": {},
     "output_type": "execute_result"
    }
   ],
   "source": [
    "df.isna().sum()"
   ]
  },
  {
   "cell_type": "markdown",
   "metadata": {},
   "source": [
    "Comentarios:\n",
    "\n",
    "-> El dataframe consta de 25 variables de las cuales una es la variable de respuesta, 23 son variables explicativa y una es el ID de cada cliente.\n",
    "\n",
    "-> La variable ID no nos da ninguna información.\n",
    "\n",
    "-> Hay algunas columnas con datos faltantes.\n",
    "\n",
    "-> Todas las variables son numéricas.\n",
    "\n",
    "-> Las variables X2 a X4, X6 a X11, e Y deberían ser categóricas\n",
    "* En resumen 25 variables. De acuerdo a los dtypes 23 son de punto flotante y 2 enteras. Pero observando la descripción del conjunto de datos, varias de estas variables son categóricas."
   ]
  },
  {
   "cell_type": "markdown",
   "metadata": {},
   "source": [
    "# 3\n",
    "* limpia los datos eliminando los registros nulos o rellena con la media de la columna"
   ]
  },
  {
   "cell_type": "code",
   "execution_count": 203,
   "metadata": {},
   "outputs": [],
   "source": [
    "for n in df.columns:\n",
    "  df[n].fillna(df[n].median(), inplace=True)"
   ]
  },
  {
   "cell_type": "code",
   "execution_count": 204,
   "metadata": {},
   "outputs": [
    {
     "data": {
      "text/plain": [
       "ID     0\n",
       "X1     0\n",
       "X2     0\n",
       "X3     0\n",
       "X4     0\n",
       "X5     0\n",
       "X6     0\n",
       "X7     0\n",
       "X8     0\n",
       "X9     0\n",
       "X10    0\n",
       "X11    0\n",
       "X12    0\n",
       "X13    0\n",
       "X14    0\n",
       "X15    0\n",
       "X16    0\n",
       "X17    0\n",
       "X18    0\n",
       "X19    0\n",
       "X20    0\n",
       "X21    0\n",
       "X22    0\n",
       "X23    0\n",
       "Y      0\n",
       "dtype: int64"
      ]
     },
     "execution_count": 204,
     "metadata": {},
     "output_type": "execute_result"
    }
   ],
   "source": [
    "df.isnull().sum()"
   ]
  },
  {
   "cell_type": "markdown",
   "metadata": {},
   "source": [
    "# 4\n",
    "* Calcula la estadística descriptiva con describe() y explica las medidas de tendencia central y dispersión"
   ]
  },
  {
   "cell_type": "code",
   "execution_count": 205,
   "metadata": {},
   "outputs": [
    {
     "data": {
      "text/html": [
       "<div>\n",
       "<style scoped>\n",
       "    .dataframe tbody tr th:only-of-type {\n",
       "        vertical-align: middle;\n",
       "    }\n",
       "\n",
       "    .dataframe tbody tr th {\n",
       "        vertical-align: top;\n",
       "    }\n",
       "\n",
       "    .dataframe thead th {\n",
       "        text-align: right;\n",
       "    }\n",
       "</style>\n",
       "<table border=\"1\" class=\"dataframe\">\n",
       "  <thead>\n",
       "    <tr style=\"text-align: right;\">\n",
       "      <th></th>\n",
       "      <th>count</th>\n",
       "      <th>mean</th>\n",
       "      <th>std</th>\n",
       "      <th>min</th>\n",
       "      <th>25%</th>\n",
       "      <th>50%</th>\n",
       "      <th>75%</th>\n",
       "      <th>max</th>\n",
       "    </tr>\n",
       "  </thead>\n",
       "  <tbody>\n",
       "    <tr>\n",
       "      <th>ID</th>\n",
       "      <td>30000.0</td>\n",
       "      <td>15000.500000</td>\n",
       "      <td>8660.398374</td>\n",
       "      <td>1.0</td>\n",
       "      <td>7500.75</td>\n",
       "      <td>15000.5</td>\n",
       "      <td>22500.25</td>\n",
       "      <td>30000.0</td>\n",
       "    </tr>\n",
       "    <tr>\n",
       "      <th>X1</th>\n",
       "      <td>30000.0</td>\n",
       "      <td>167484.322667</td>\n",
       "      <td>129747.661567</td>\n",
       "      <td>10000.0</td>\n",
       "      <td>50000.00</td>\n",
       "      <td>140000.0</td>\n",
       "      <td>240000.00</td>\n",
       "      <td>1000000.0</td>\n",
       "    </tr>\n",
       "    <tr>\n",
       "      <th>X2</th>\n",
       "      <td>30000.0</td>\n",
       "      <td>1.603767</td>\n",
       "      <td>0.489122</td>\n",
       "      <td>1.0</td>\n",
       "      <td>1.00</td>\n",
       "      <td>2.0</td>\n",
       "      <td>2.00</td>\n",
       "      <td>2.0</td>\n",
       "    </tr>\n",
       "    <tr>\n",
       "      <th>X3</th>\n",
       "      <td>30000.0</td>\n",
       "      <td>1.853067</td>\n",
       "      <td>0.790294</td>\n",
       "      <td>0.0</td>\n",
       "      <td>1.00</td>\n",
       "      <td>2.0</td>\n",
       "      <td>2.00</td>\n",
       "      <td>6.0</td>\n",
       "    </tr>\n",
       "    <tr>\n",
       "      <th>X4</th>\n",
       "      <td>30000.0</td>\n",
       "      <td>1.551933</td>\n",
       "      <td>0.521963</td>\n",
       "      <td>0.0</td>\n",
       "      <td>1.00</td>\n",
       "      <td>2.0</td>\n",
       "      <td>2.00</td>\n",
       "      <td>3.0</td>\n",
       "    </tr>\n",
       "    <tr>\n",
       "      <th>X5</th>\n",
       "      <td>30000.0</td>\n",
       "      <td>35.483967</td>\n",
       "      <td>9.217276</td>\n",
       "      <td>21.0</td>\n",
       "      <td>28.00</td>\n",
       "      <td>34.0</td>\n",
       "      <td>41.00</td>\n",
       "      <td>79.0</td>\n",
       "    </tr>\n",
       "    <tr>\n",
       "      <th>X6</th>\n",
       "      <td>30000.0</td>\n",
       "      <td>-0.016633</td>\n",
       "      <td>1.123773</td>\n",
       "      <td>-2.0</td>\n",
       "      <td>-1.00</td>\n",
       "      <td>0.0</td>\n",
       "      <td>0.00</td>\n",
       "      <td>8.0</td>\n",
       "    </tr>\n",
       "    <tr>\n",
       "      <th>X7</th>\n",
       "      <td>30000.0</td>\n",
       "      <td>-0.133667</td>\n",
       "      <td>1.197155</td>\n",
       "      <td>-2.0</td>\n",
       "      <td>-1.00</td>\n",
       "      <td>0.0</td>\n",
       "      <td>0.00</td>\n",
       "      <td>8.0</td>\n",
       "    </tr>\n",
       "    <tr>\n",
       "      <th>X8</th>\n",
       "      <td>30000.0</td>\n",
       "      <td>-0.166367</td>\n",
       "      <td>1.195911</td>\n",
       "      <td>-2.0</td>\n",
       "      <td>-1.00</td>\n",
       "      <td>0.0</td>\n",
       "      <td>0.00</td>\n",
       "      <td>8.0</td>\n",
       "    </tr>\n",
       "    <tr>\n",
       "      <th>X9</th>\n",
       "      <td>30000.0</td>\n",
       "      <td>-0.220733</td>\n",
       "      <td>1.168983</td>\n",
       "      <td>-2.0</td>\n",
       "      <td>-1.00</td>\n",
       "      <td>0.0</td>\n",
       "      <td>0.00</td>\n",
       "      <td>8.0</td>\n",
       "    </tr>\n",
       "    <tr>\n",
       "      <th>X10</th>\n",
       "      <td>30000.0</td>\n",
       "      <td>-0.266200</td>\n",
       "      <td>1.133011</td>\n",
       "      <td>-2.0</td>\n",
       "      <td>-1.00</td>\n",
       "      <td>0.0</td>\n",
       "      <td>0.00</td>\n",
       "      <td>8.0</td>\n",
       "    </tr>\n",
       "    <tr>\n",
       "      <th>X11</th>\n",
       "      <td>30000.0</td>\n",
       "      <td>-0.291000</td>\n",
       "      <td>1.149882</td>\n",
       "      <td>-2.0</td>\n",
       "      <td>-1.00</td>\n",
       "      <td>0.0</td>\n",
       "      <td>0.00</td>\n",
       "      <td>8.0</td>\n",
       "    </tr>\n",
       "    <tr>\n",
       "      <th>X12</th>\n",
       "      <td>30000.0</td>\n",
       "      <td>51226.284467</td>\n",
       "      <td>73633.787601</td>\n",
       "      <td>-165580.0</td>\n",
       "      <td>3566.75</td>\n",
       "      <td>22387.0</td>\n",
       "      <td>67091.00</td>\n",
       "      <td>964511.0</td>\n",
       "    </tr>\n",
       "    <tr>\n",
       "      <th>X13</th>\n",
       "      <td>30000.0</td>\n",
       "      <td>49180.473967</td>\n",
       "      <td>71172.349726</td>\n",
       "      <td>-69777.0</td>\n",
       "      <td>2986.75</td>\n",
       "      <td>21207.0</td>\n",
       "      <td>64006.25</td>\n",
       "      <td>983931.0</td>\n",
       "    </tr>\n",
       "    <tr>\n",
       "      <th>X14</th>\n",
       "      <td>30000.0</td>\n",
       "      <td>47013.677733</td>\n",
       "      <td>69348.099045</td>\n",
       "      <td>-157264.0</td>\n",
       "      <td>2674.75</td>\n",
       "      <td>20089.0</td>\n",
       "      <td>60164.75</td>\n",
       "      <td>1664089.0</td>\n",
       "    </tr>\n",
       "    <tr>\n",
       "      <th>X15</th>\n",
       "      <td>30000.0</td>\n",
       "      <td>43263.540500</td>\n",
       "      <td>64331.690439</td>\n",
       "      <td>-170000.0</td>\n",
       "      <td>2332.00</td>\n",
       "      <td>19052.0</td>\n",
       "      <td>54506.00</td>\n",
       "      <td>891586.0</td>\n",
       "    </tr>\n",
       "    <tr>\n",
       "      <th>X16</th>\n",
       "      <td>30000.0</td>\n",
       "      <td>40311.904067</td>\n",
       "      <td>60795.051774</td>\n",
       "      <td>-81334.0</td>\n",
       "      <td>1769.50</td>\n",
       "      <td>18107.0</td>\n",
       "      <td>50177.00</td>\n",
       "      <td>927171.0</td>\n",
       "    </tr>\n",
       "    <tr>\n",
       "      <th>X17</th>\n",
       "      <td>30000.0</td>\n",
       "      <td>38873.869033</td>\n",
       "      <td>59552.714581</td>\n",
       "      <td>-339603.0</td>\n",
       "      <td>1258.50</td>\n",
       "      <td>17081.0</td>\n",
       "      <td>49198.25</td>\n",
       "      <td>961664.0</td>\n",
       "    </tr>\n",
       "    <tr>\n",
       "      <th>X18</th>\n",
       "      <td>30000.0</td>\n",
       "      <td>5661.995767</td>\n",
       "      <td>16562.058487</td>\n",
       "      <td>0.0</td>\n",
       "      <td>1000.00</td>\n",
       "      <td>2100.0</td>\n",
       "      <td>5006.00</td>\n",
       "      <td>873552.0</td>\n",
       "    </tr>\n",
       "    <tr>\n",
       "      <th>X19</th>\n",
       "      <td>30000.0</td>\n",
       "      <td>5921.314867</td>\n",
       "      <td>23040.819754</td>\n",
       "      <td>0.0</td>\n",
       "      <td>836.00</td>\n",
       "      <td>2009.0</td>\n",
       "      <td>5000.00</td>\n",
       "      <td>1684259.0</td>\n",
       "    </tr>\n",
       "    <tr>\n",
       "      <th>X20</th>\n",
       "      <td>30000.0</td>\n",
       "      <td>5224.709900</td>\n",
       "      <td>17606.163450</td>\n",
       "      <td>0.0</td>\n",
       "      <td>390.00</td>\n",
       "      <td>1800.0</td>\n",
       "      <td>4504.25</td>\n",
       "      <td>896040.0</td>\n",
       "    </tr>\n",
       "    <tr>\n",
       "      <th>X21</th>\n",
       "      <td>30000.0</td>\n",
       "      <td>4826.032533</td>\n",
       "      <td>15666.008524</td>\n",
       "      <td>0.0</td>\n",
       "      <td>298.00</td>\n",
       "      <td>1500.0</td>\n",
       "      <td>4013.00</td>\n",
       "      <td>621000.0</td>\n",
       "    </tr>\n",
       "    <tr>\n",
       "      <th>X22</th>\n",
       "      <td>30000.0</td>\n",
       "      <td>4799.087100</td>\n",
       "      <td>15278.170888</td>\n",
       "      <td>0.0</td>\n",
       "      <td>254.75</td>\n",
       "      <td>1500.0</td>\n",
       "      <td>4031.00</td>\n",
       "      <td>426529.0</td>\n",
       "    </tr>\n",
       "    <tr>\n",
       "      <th>X23</th>\n",
       "      <td>30000.0</td>\n",
       "      <td>5215.640600</td>\n",
       "      <td>17777.431407</td>\n",
       "      <td>0.0</td>\n",
       "      <td>118.00</td>\n",
       "      <td>1500.0</td>\n",
       "      <td>4000.00</td>\n",
       "      <td>528666.0</td>\n",
       "    </tr>\n",
       "    <tr>\n",
       "      <th>Y</th>\n",
       "      <td>30000.0</td>\n",
       "      <td>0.221167</td>\n",
       "      <td>0.415039</td>\n",
       "      <td>0.0</td>\n",
       "      <td>0.00</td>\n",
       "      <td>0.0</td>\n",
       "      <td>0.00</td>\n",
       "      <td>1.0</td>\n",
       "    </tr>\n",
       "  </tbody>\n",
       "</table>\n",
       "</div>"
      ],
      "text/plain": [
       "       count           mean            std       min       25%       50%  \\\n",
       "ID   30000.0   15000.500000    8660.398374       1.0   7500.75   15000.5   \n",
       "X1   30000.0  167484.322667  129747.661567   10000.0  50000.00  140000.0   \n",
       "X2   30000.0       1.603767       0.489122       1.0      1.00       2.0   \n",
       "X3   30000.0       1.853067       0.790294       0.0      1.00       2.0   \n",
       "X4   30000.0       1.551933       0.521963       0.0      1.00       2.0   \n",
       "X5   30000.0      35.483967       9.217276      21.0     28.00      34.0   \n",
       "X6   30000.0      -0.016633       1.123773      -2.0     -1.00       0.0   \n",
       "X7   30000.0      -0.133667       1.197155      -2.0     -1.00       0.0   \n",
       "X8   30000.0      -0.166367       1.195911      -2.0     -1.00       0.0   \n",
       "X9   30000.0      -0.220733       1.168983      -2.0     -1.00       0.0   \n",
       "X10  30000.0      -0.266200       1.133011      -2.0     -1.00       0.0   \n",
       "X11  30000.0      -0.291000       1.149882      -2.0     -1.00       0.0   \n",
       "X12  30000.0   51226.284467   73633.787601 -165580.0   3566.75   22387.0   \n",
       "X13  30000.0   49180.473967   71172.349726  -69777.0   2986.75   21207.0   \n",
       "X14  30000.0   47013.677733   69348.099045 -157264.0   2674.75   20089.0   \n",
       "X15  30000.0   43263.540500   64331.690439 -170000.0   2332.00   19052.0   \n",
       "X16  30000.0   40311.904067   60795.051774  -81334.0   1769.50   18107.0   \n",
       "X17  30000.0   38873.869033   59552.714581 -339603.0   1258.50   17081.0   \n",
       "X18  30000.0    5661.995767   16562.058487       0.0   1000.00    2100.0   \n",
       "X19  30000.0    5921.314867   23040.819754       0.0    836.00    2009.0   \n",
       "X20  30000.0    5224.709900   17606.163450       0.0    390.00    1800.0   \n",
       "X21  30000.0    4826.032533   15666.008524       0.0    298.00    1500.0   \n",
       "X22  30000.0    4799.087100   15278.170888       0.0    254.75    1500.0   \n",
       "X23  30000.0    5215.640600   17777.431407       0.0    118.00    1500.0   \n",
       "Y    30000.0       0.221167       0.415039       0.0      0.00       0.0   \n",
       "\n",
       "           75%        max  \n",
       "ID    22500.25    30000.0  \n",
       "X1   240000.00  1000000.0  \n",
       "X2        2.00        2.0  \n",
       "X3        2.00        6.0  \n",
       "X4        2.00        3.0  \n",
       "X5       41.00       79.0  \n",
       "X6        0.00        8.0  \n",
       "X7        0.00        8.0  \n",
       "X8        0.00        8.0  \n",
       "X9        0.00        8.0  \n",
       "X10       0.00        8.0  \n",
       "X11       0.00        8.0  \n",
       "X12   67091.00   964511.0  \n",
       "X13   64006.25   983931.0  \n",
       "X14   60164.75  1664089.0  \n",
       "X15   54506.00   891586.0  \n",
       "X16   50177.00   927171.0  \n",
       "X17   49198.25   961664.0  \n",
       "X18    5006.00   873552.0  \n",
       "X19    5000.00  1684259.0  \n",
       "X20    4504.25   896040.0  \n",
       "X21    4013.00   621000.0  \n",
       "X22    4031.00   426529.0  \n",
       "X23    4000.00   528666.0  \n",
       "Y         0.00        1.0  "
      ]
     },
     "execution_count": 205,
     "metadata": {},
     "output_type": "execute_result"
    }
   ],
   "source": [
    "# Muestra un resumen estadístico de todas las variables\n",
    "df.describe(include=\"all\").T"
   ]
  },
  {
   "cell_type": "code",
   "execution_count": 206,
   "metadata": {},
   "outputs": [
    {
     "data": {
      "image/png": "[encoded data removed]",
      "text/plain": [
       "<Figure size 864x576 with 1 Axes>"
      ]
     },
     "metadata": {},
     "output_type": "display_data"
    }
   ],
   "source": [
    "sns.set(rc={'figure.figsize':(12,8)})\n",
    "sns.boxplot(x='variable', y='value', data=pd.melt(df));\n",
    "plt.title(\"Boxplot de todas las variables del dataset\");"
   ]
  },
  {
   "cell_type": "code",
   "execution_count": 207,
   "metadata": {},
   "outputs": [
    {
     "data": {
      "image/png": "[encoded data removed]",
      "text/plain": [
       "<Figure size 576x432 with 1 Axes>"
      ]
     },
     "metadata": {},
     "output_type": "display_data"
    }
   ],
   "source": [
    "sns.set(rc={'figure.figsize':(8,6)})\n",
    "sns.boxplot(x='variable', y='value', data=pd.melt(df[['X2','X3','X4']]));\n",
    "plt.title(\"Boxplot de todas las variables x2,x3 y x4\");"
   ]
  },
  {
   "cell_type": "markdown",
   "metadata": {},
   "source": [
    "* Estas 3 variables son categóricas. \n",
    "X2= Gender ((1 = male; 2 = female), X3 = Education ((1 = graduate school; 2 = university; 3 = high school; 4 = others) y X4= Marital Status ((1 = married; 2 = single; 3 = others). La variable X3 tiene datos que no son compatibles con la descripción dada (Valores >4)\n"
   ]
  },
  {
   "cell_type": "code",
   "execution_count": 208,
   "metadata": {},
   "outputs": [
    {
     "data": {
      "image/png": "[encoded data removed]",
      "text/plain": [
       "<Figure size 432x432 with 1 Axes>"
      ]
     },
     "metadata": {},
     "output_type": "display_data"
    }
   ],
   "source": [
    "sns.set(rc={'figure.figsize':(6,6)})\n",
    "sns.boxplot(x='variable', y='value', data=pd.melt(df[['X5']]));\n",
    "plt.title(\"Boxplot de todas las variables x2,x3 y x4\");"
   ]
  },
  {
   "cell_type": "markdown",
   "metadata": {},
   "source": [
    "* X5 es una variable  numérica y representa la edad del cliente."
   ]
  },
  {
   "cell_type": "code",
   "execution_count": 209,
   "metadata": {},
   "outputs": [
    {
     "data": {
      "image/png": "[encoded data removed]",
      "text/plain": [
       "<Figure size 720x576 with 1 Axes>"
      ]
     },
     "metadata": {},
     "output_type": "display_data"
    }
   ],
   "source": [
    "sns.set(rc={'figure.figsize':(10,8)})\n",
    "sns.boxplot(x='variable', y='value', data=pd.melt(df[['X6','X7','X8','X9','X10','X11']]));\n",
    "plt.title(\"Boxplot de las variables X6-X11\");"
   ]
  },
  {
   "cell_type": "markdown",
   "metadata": {},
   "source": [
    "* Estas variables definen el status del pago del mes (pago a tiempo, tarde). Tambien se observan valores que\n",
    "* no cumplen con la descripción de las variables (-2 y 0 principalmente)\n",
    "* History of past payment. We tracked the past monthly payment records (from April to September, 2005) as follows: X6 = the repayment status in September, 2005; X7 = the repayment status in August, 2005; . . .;X11 = the repayment status in April, 2005. The measurement scale for the repayment status is: -1 = pay duly; 1 = payment delay for one month; 2 = payment delay for two months; . . .; 8 = payment delay for eight months; 9 = payment delay for nine months and above."
   ]
  },
  {
   "cell_type": "code",
   "execution_count": 210,
   "metadata": {},
   "outputs": [
    {
     "data": {
      "image/png": "[encoded data removed]",
      "text/plain": [
       "<Figure size 720x576 with 1 Axes>"
      ]
     },
     "metadata": {},
     "output_type": "display_data"
    }
   ],
   "source": [
    "sns.set(rc={'figure.figsize':(10,8)})\n",
    "sns.boxplot(x='variable', y='value', data=pd.melt(df[['X12','X13','X14','X15','X16','X17']]));\n",
    "plt.title(\"Boxplot de las variables X12-X17\");"
   ]
  },
  {
   "cell_type": "markdown",
   "metadata": {},
   "source": [
    "* Estas variables son cantidad a pagar (saldo pendiente) en meses anteriores\n",
    "* Amount of bill statement (NT dollar). X12 = amount of bill statement in September, 2005; X13 = amount of bill statement in August, 2005; . . .; X17 = amount of bill statement in April, 2005."
   ]
  },
  {
   "cell_type": "code",
   "execution_count": 211,
   "metadata": {},
   "outputs": [
    {
     "data": {
      "image/png": "[encoded data removed]",
      "text/plain": [
       "<Figure size 576x576 with 1 Axes>"
      ]
     },
     "metadata": {},
     "output_type": "display_data"
    }
   ],
   "source": [
    "sns.set(rc={'figure.figsize':(8,8)})\n",
    "sns.boxplot(x='variable', y='value', data=pd.melt(df[['X18','X19','X20','X21','X22','X23']]));\n",
    "plt.title(\"Boxplot de las variables X18-X23\");"
   ]
  },
  {
   "cell_type": "markdown",
   "metadata": {},
   "source": [
    "* Estas variables son cantidad pagada en meses anteriores\n",
    "* Se observa outliers en X19\n",
    "* (Amount of previous payment (NT dollar). X18 = amount paid in September, 2005; X19 = amount paid in August, 2005; . . .;X23 = amount paid in April, 2005.)"
   ]
  },
  {
   "cell_type": "markdown",
   "metadata": {},
   "source": [
    "# 5\n",
    "* Realiza el conteo de las variables categóricas"
   ]
  },
  {
   "cell_type": "markdown",
   "metadata": {},
   "source": [
    "** Estas son las variables categóricas"
   ]
  },
  {
   "cell_type": "code",
   "execution_count": 212,
   "metadata": {},
   "outputs": [],
   "source": [
    "# Crea una lista de variables categóricas\n",
    "# En total son 11\n",
    "cat=['X2', 'X3', 'X4', 'X6', 'X7', 'X8', 'X9', 'X10', 'X11', 'Y']\n",
    "id_=['ID']"
   ]
  },
  {
   "cell_type": "markdown",
   "metadata": {},
   "source": [
    "# 6\n",
    "* Escala los datos, si consideras necesario"
   ]
  },
  {
   "cell_type": "code",
   "execution_count": 213,
   "metadata": {},
   "outputs": [],
   "source": [
    "#guardamos variable_respuesta\n",
    "var_resp=df['Y']"
   ]
  },
  {
   "cell_type": "code",
   "execution_count": 214,
   "metadata": {
    "id": "vqumqGIMwGNQ"
   },
   "outputs": [],
   "source": [
    "# Dejamos unicamente las variables no categórias\n",
    "df=df.loc[:, ~df.columns.isin(cat+id_)]"
   ]
  },
  {
   "cell_type": "code",
   "execution_count": 215,
   "metadata": {
    "colab": {
     "base_uri": "https://localhost:8080/",
     "height": 206
    },
    "id": "l0hk6YnHwGNQ",
    "outputId": "c9d23f43-6724-4b58-bd32-3157ed28fa8b"
   },
   "outputs": [
    {
     "data": {
      "text/html": [
       "<div>\n",
       "<style scoped>\n",
       "    .dataframe tbody tr th:only-of-type {\n",
       "        vertical-align: middle;\n",
       "    }\n",
       "\n",
       "    .dataframe tbody tr th {\n",
       "        vertical-align: top;\n",
       "    }\n",
       "\n",
       "    .dataframe thead th {\n",
       "        text-align: right;\n",
       "    }\n",
       "</style>\n",
       "<table border=\"1\" class=\"dataframe\">\n",
       "  <thead>\n",
       "    <tr style=\"text-align: right;\">\n",
       "      <th></th>\n",
       "      <th>X1</th>\n",
       "      <th>X5</th>\n",
       "      <th>X12</th>\n",
       "      <th>X13</th>\n",
       "      <th>X14</th>\n",
       "      <th>X15</th>\n",
       "      <th>X16</th>\n",
       "      <th>X17</th>\n",
       "      <th>X18</th>\n",
       "      <th>X19</th>\n",
       "      <th>X20</th>\n",
       "      <th>X21</th>\n",
       "      <th>X22</th>\n",
       "      <th>X23</th>\n",
       "    </tr>\n",
       "  </thead>\n",
       "  <tbody>\n",
       "    <tr>\n",
       "      <th>0</th>\n",
       "      <td>20000</td>\n",
       "      <td>24.0</td>\n",
       "      <td>3913.0</td>\n",
       "      <td>3102.0</td>\n",
       "      <td>689.0</td>\n",
       "      <td>0.0</td>\n",
       "      <td>0.0</td>\n",
       "      <td>0.0</td>\n",
       "      <td>0.0</td>\n",
       "      <td>689.0</td>\n",
       "      <td>0.0</td>\n",
       "      <td>0.0</td>\n",
       "      <td>0.0</td>\n",
       "      <td>0.0</td>\n",
       "    </tr>\n",
       "    <tr>\n",
       "      <th>1</th>\n",
       "      <td>120000</td>\n",
       "      <td>26.0</td>\n",
       "      <td>2682.0</td>\n",
       "      <td>1725.0</td>\n",
       "      <td>2682.0</td>\n",
       "      <td>3272.0</td>\n",
       "      <td>3455.0</td>\n",
       "      <td>3261.0</td>\n",
       "      <td>0.0</td>\n",
       "      <td>1000.0</td>\n",
       "      <td>1000.0</td>\n",
       "      <td>1000.0</td>\n",
       "      <td>0.0</td>\n",
       "      <td>2000.0</td>\n",
       "    </tr>\n",
       "    <tr>\n",
       "      <th>2</th>\n",
       "      <td>90000</td>\n",
       "      <td>34.0</td>\n",
       "      <td>29239.0</td>\n",
       "      <td>14027.0</td>\n",
       "      <td>13559.0</td>\n",
       "      <td>14331.0</td>\n",
       "      <td>14948.0</td>\n",
       "      <td>15549.0</td>\n",
       "      <td>1518.0</td>\n",
       "      <td>1500.0</td>\n",
       "      <td>1000.0</td>\n",
       "      <td>1000.0</td>\n",
       "      <td>1000.0</td>\n",
       "      <td>5000.0</td>\n",
       "    </tr>\n",
       "    <tr>\n",
       "      <th>3</th>\n",
       "      <td>50000</td>\n",
       "      <td>37.0</td>\n",
       "      <td>46990.0</td>\n",
       "      <td>48233.0</td>\n",
       "      <td>49291.0</td>\n",
       "      <td>28314.0</td>\n",
       "      <td>28959.0</td>\n",
       "      <td>29547.0</td>\n",
       "      <td>2000.0</td>\n",
       "      <td>2019.0</td>\n",
       "      <td>1200.0</td>\n",
       "      <td>1100.0</td>\n",
       "      <td>1069.0</td>\n",
       "      <td>1000.0</td>\n",
       "    </tr>\n",
       "    <tr>\n",
       "      <th>4</th>\n",
       "      <td>50000</td>\n",
       "      <td>57.0</td>\n",
       "      <td>8617.0</td>\n",
       "      <td>5670.0</td>\n",
       "      <td>35835.0</td>\n",
       "      <td>20940.0</td>\n",
       "      <td>19146.0</td>\n",
       "      <td>19131.0</td>\n",
       "      <td>2000.0</td>\n",
       "      <td>36681.0</td>\n",
       "      <td>10000.0</td>\n",
       "      <td>9000.0</td>\n",
       "      <td>689.0</td>\n",
       "      <td>679.0</td>\n",
       "    </tr>\n",
       "  </tbody>\n",
       "</table>\n",
       "</div>"
      ],
      "text/plain": [
       "       X1    X5      X12      X13      X14      X15      X16      X17     X18  \\\n",
       "0   20000  24.0   3913.0   3102.0    689.0      0.0      0.0      0.0     0.0   \n",
       "1  120000  26.0   2682.0   1725.0   2682.0   3272.0   3455.0   3261.0     0.0   \n",
       "2   90000  34.0  29239.0  14027.0  13559.0  14331.0  14948.0  15549.0  1518.0   \n",
       "3   50000  37.0  46990.0  48233.0  49291.0  28314.0  28959.0  29547.0  2000.0   \n",
       "4   50000  57.0   8617.0   5670.0  35835.0  20940.0  19146.0  19131.0  2000.0   \n",
       "\n",
       "       X19      X20     X21     X22     X23  \n",
       "0    689.0      0.0     0.0     0.0     0.0  \n",
       "1   1000.0   1000.0  1000.0     0.0  2000.0  \n",
       "2   1500.0   1000.0  1000.0  1000.0  5000.0  \n",
       "3   2019.0   1200.0  1100.0  1069.0  1000.0  \n",
       "4  36681.0  10000.0  9000.0   689.0   679.0  "
      ]
     },
     "execution_count": 215,
     "metadata": {},
     "output_type": "execute_result"
    }
   ],
   "source": [
    "# Muestra las primeras 5 filas de la base\n",
    "df.head()"
   ]
  },
  {
   "cell_type": "markdown",
   "metadata": {
    "id": "4svkpAfmSndP"
   },
   "source": [
    "### Análisis Exploratorio de Datos"
   ]
  },
  {
   "cell_type": "code",
   "execution_count": 216,
   "metadata": {
    "colab": {
     "base_uri": "https://localhost:8080/",
     "height": 736
    },
    "id": "u8HSPk5RwGNT",
    "outputId": "019c0c47-a674-4e69-eeec-61b368203566"
   },
   "outputs": [
    {
     "data": {
      "image/png": "[encoded data removed]",
      "text/plain": [
       "<Figure size 720x576 with 1 Axes>"
      ]
     },
     "metadata": {},
     "output_type": "display_data"
    }
   ],
   "source": [
    "# Boxplot de los datos originales\n",
    "sns.set(rc={'figure.figsize':(10,8)});\n",
    "sns.boxplot(x='variable', y='value', data=pd.melt(df));\n",
    "plt.title(\"Boxplot de variables numericas dataset (Sin escalar)\");"
   ]
  },
  {
   "cell_type": "markdown",
   "metadata": {
    "id": "PGyH5ckEwGNT"
   },
   "source": [
    "###  Procedemos a normalizar usando MinMax  "
   ]
  },
  {
   "cell_type": "code",
   "execution_count": 217,
   "metadata": {
    "colab": {
     "base_uri": "https://localhost:8080/"
    },
    "id": "UQ30K-9qwGNT",
    "outputId": "3402ff47-9591-4c82-f84a-2736db09cd5a"
   },
   "outputs": [
    {
     "data": {
      "text/plain": [
       "array([[0.01010101, 0.05172414, 0.14998173, 0.06916432, 0.08672289,\n",
       "        0.16013776, 0.08064809, 0.26097872, 0.        , 0.00040908,\n",
       "        0.        , 0.        , 0.        , 0.        ],\n",
       "       [0.11111111, 0.0862069 , 0.14889243, 0.06785751, 0.08781713,\n",
       "        0.16321994, 0.08407395, 0.26348474, 0.        , 0.00059373,\n",
       "        0.00111602, 0.00161031, 0.        , 0.00378311]])"
      ]
     },
     "execution_count": 217,
     "metadata": {},
     "output_type": "execute_result"
    }
   ],
   "source": [
    "# Normalización de los datos utilizando la normalización mix-max\n",
    "minmax_scaler = MinMaxScaler()\n",
    "scaled_minmax = minmax_scaler.fit_transform(df)\n",
    "scaled_minmax[:2]"
   ]
  },
  {
   "cell_type": "code",
   "execution_count": 218,
   "metadata": {},
   "outputs": [],
   "source": [
    "# Copia de bd con los datos normalizados con min-max\n",
    "scaled_df_minmax = pd.DataFrame(scaled_minmax, columns=df.columns)"
   ]
  },
  {
   "cell_type": "code",
   "execution_count": 219,
   "metadata": {},
   "outputs": [
    {
     "data": {
      "image/png": "[encoded data removed]",
      "text/plain": [
       "<Figure size 864x864 with 1 Axes>"
      ]
     },
     "metadata": {},
     "output_type": "display_data"
    }
   ],
   "source": [
    "# Boxplot de datos normalizados con min-max\n",
    "sns.set(rc={'figure.figsize':(12,12)})\n",
    "sns.boxplot(x='variable', y='value', data=pd.melt(scaled_df_minmax));\n",
    "plt.title(\"Boxplot de variables numericas dataset (Normalizacion MinMax )\");"
   ]
  },
  {
   "cell_type": "markdown",
   "metadata": {},
   "source": [
    "## Se observa una reducción de los valores outliers.\n"
   ]
  },
  {
   "cell_type": "markdown",
   "metadata": {},
   "source": [
    "# 7\n",
    "* Reduce las dimensiones con PCA, si consideras necesario."
   ]
  },
  {
   "cell_type": "markdown",
   "metadata": {},
   "source": [
    "## PCA (datos con minmax scaler)"
   ]
  },
  {
   "cell_type": "code",
   "execution_count": 220,
   "metadata": {},
   "outputs": [
    {
     "data": {
      "text/plain": [
       "array([[-2.62106016e-01, -2.71309899e-02,  2.81243812e-02, ...,\n",
       "         3.96234115e-04,  3.45169428e-04,  6.17014902e-04],\n",
       "       [-1.88345137e-01,  6.45803056e-03, -4.12649023e-02, ...,\n",
       "         7.40883083e-04, -2.79490567e-04, -9.06301604e-05],\n",
       "       [-7.67098382e-02, -6.46185185e-02,  1.66235993e-02, ...,\n",
       "        -5.17039340e-03, -1.22217481e-03, -4.17959106e-04],\n",
       "       ...,\n",
       "       [-6.39615136e-02, -1.30048887e-01,  5.98110681e-02, ...,\n",
       "         4.13109961e-03,  9.03072940e-04, -1.46978725e-03],\n",
       "       [ 4.14173466e-02, -9.53482246e-02,  6.87747710e-02, ...,\n",
       "        -1.28232753e-02, -7.89310240e-03, -9.93359044e-03],\n",
       "       [ 9.21884933e-02, -1.69902475e-01,  1.00099798e-01, ...,\n",
       "        -9.41236013e-05,  7.38905947e-03, -1.93918862e-03]])"
      ]
     },
     "execution_count": 220,
     "metadata": {},
     "output_type": "execute_result"
    }
   ],
   "source": [
    "# Creación de componentes PCA con datos min-max\n",
    "pca_minmax = PCA()\n",
    "pca_minmax.fit_transform(scaled_df_minmax)"
   ]
  },
  {
   "cell_type": "code",
   "execution_count": 221,
   "metadata": {
    "colab": {
     "base_uri": "https://localhost:8080/",
     "height": 143
    },
    "id": "zXd_5nwiwGNU",
    "outputId": "0780d841-b62b-48fb-ff50-e7320f0ce2cd"
   },
   "outputs": [
    {
     "data": {
      "text/html": [
       "<div>\n",
       "<style scoped>\n",
       "    .dataframe tbody tr th:only-of-type {\n",
       "        vertical-align: middle;\n",
       "    }\n",
       "\n",
       "    .dataframe tbody tr th {\n",
       "        vertical-align: top;\n",
       "    }\n",
       "\n",
       "    .dataframe thead th {\n",
       "        text-align: right;\n",
       "    }\n",
       "</style>\n",
       "<table border=\"1\" class=\"dataframe\">\n",
       "  <thead>\n",
       "    <tr style=\"text-align: right;\">\n",
       "      <th></th>\n",
       "      <th>PC1</th>\n",
       "      <th>PC2</th>\n",
       "      <th>PC3</th>\n",
       "      <th>PC4</th>\n",
       "      <th>PC5</th>\n",
       "      <th>PC6</th>\n",
       "      <th>PC7</th>\n",
       "      <th>PC8</th>\n",
       "      <th>PC9</th>\n",
       "      <th>PC10</th>\n",
       "      <th>PC11</th>\n",
       "      <th>PC12</th>\n",
       "      <th>PC13</th>\n",
       "      <th>PC14</th>\n",
       "    </tr>\n",
       "  </thead>\n",
       "  <tbody>\n",
       "    <tr>\n",
       "      <th>Desviación</th>\n",
       "      <td>0.1654</td>\n",
       "      <td>0.1453</td>\n",
       "      <td>0.1099</td>\n",
       "      <td>0.0368</td>\n",
       "      <td>0.0337</td>\n",
       "      <td>0.0319</td>\n",
       "      <td>0.0248</td>\n",
       "      <td>0.0210</td>\n",
       "      <td>0.0188</td>\n",
       "      <td>0.0156</td>\n",
       "      <td>0.0120</td>\n",
       "      <td>0.0104</td>\n",
       "      <td>0.0086</td>\n",
       "      <td>0.0062</td>\n",
       "    </tr>\n",
       "    <tr>\n",
       "      <th>% de la varianza explicada</th>\n",
       "      <td>41.4252</td>\n",
       "      <td>31.9465</td>\n",
       "      <td>18.2653</td>\n",
       "      <td>2.0481</td>\n",
       "      <td>1.7199</td>\n",
       "      <td>1.5434</td>\n",
       "      <td>0.9307</td>\n",
       "      <td>0.6669</td>\n",
       "      <td>0.5325</td>\n",
       "      <td>0.3688</td>\n",
       "      <td>0.2178</td>\n",
       "      <td>0.1648</td>\n",
       "      <td>0.1125</td>\n",
       "      <td>0.0576</td>\n",
       "    </tr>\n",
       "    <tr>\n",
       "      <th>% Varianza acumulada</th>\n",
       "      <td>41.4252</td>\n",
       "      <td>73.3717</td>\n",
       "      <td>91.6370</td>\n",
       "      <td>93.6852</td>\n",
       "      <td>95.4051</td>\n",
       "      <td>96.9485</td>\n",
       "      <td>97.8792</td>\n",
       "      <td>98.5461</td>\n",
       "      <td>99.0785</td>\n",
       "      <td>99.4473</td>\n",
       "      <td>99.6651</td>\n",
       "      <td>99.8299</td>\n",
       "      <td>99.9424</td>\n",
       "      <td>100.0000</td>\n",
       "    </tr>\n",
       "  </tbody>\n",
       "</table>\n",
       "</div>"
      ],
      "text/plain": [
       "                                PC1      PC2      PC3      PC4      PC5  \\\n",
       "Desviación                   0.1654   0.1453   0.1099   0.0368   0.0337   \n",
       "% de la varianza explicada  41.4252  31.9465  18.2653   2.0481   1.7199   \n",
       "% Varianza acumulada        41.4252  73.3717  91.6370  93.6852  95.4051   \n",
       "\n",
       "                                PC6      PC7      PC8      PC9     PC10  \\\n",
       "Desviación                   0.0319   0.0248   0.0210   0.0188   0.0156   \n",
       "% de la varianza explicada   1.5434   0.9307   0.6669   0.5325   0.3688   \n",
       "% Varianza acumulada        96.9485  97.8792  98.5461  99.0785  99.4473   \n",
       "\n",
       "                               PC11     PC12     PC13      PC14  \n",
       "Desviación                   0.0120   0.0104   0.0086    0.0062  \n",
       "% de la varianza explicada   0.2178   0.1648   0.1125    0.0576  \n",
       "% Varianza acumulada        99.6651  99.8299  99.9424  100.0000  "
      ]
     },
     "execution_count": 221,
     "metadata": {},
     "output_type": "execute_result"
    }
   ],
   "source": [
    "# Resumen de varianza de los componentes principales\n",
    "pcsSummary_df_minmax = pd.DataFrame({'Desviación': np.sqrt(pca_minmax.explained_variance_),\n",
    "                             '% de la varianza explicada': pca_minmax.explained_variance_ratio_*100,\n",
    "                             '% Varianza acumulada': np.cumsum(pca_minmax.explained_variance_ratio_*100)\n",
    "                             })\n",
    "\n",
    "pcsSummary_df_minmax = pcsSummary_df_minmax.transpose()\n",
    "pcsSummary_df_minmax.columns = ['PC{}'.format(i) for i in range(1, len(pcsSummary_df_minmax.columns) + 1)]\n",
    "pcsSummary_df_minmax.round(4) "
   ]
  },
  {
   "cell_type": "markdown",
   "metadata": {
    "id": "D3jaSLhdwGNU"
   },
   "source": [
    "# Observaciones\n",
    "* Los primeros 2 componentes explican mas del 70 % de la variación. \n",
    "\n"
   ]
  },
  {
   "cell_type": "code",
   "execution_count": 222,
   "metadata": {
    "colab": {
     "base_uri": "https://localhost:8080/",
     "height": 488
    },
    "id": "tW6f1M_pwGNU",
    "outputId": "0fa295c5-904a-42ec-b3bc-be35426926a1"
   },
   "outputs": [
    {
     "data": {
      "text/html": [
       "<div>\n",
       "<style scoped>\n",
       "    .dataframe tbody tr th:only-of-type {\n",
       "        vertical-align: middle;\n",
       "    }\n",
       "\n",
       "    .dataframe tbody tr th {\n",
       "        vertical-align: top;\n",
       "    }\n",
       "\n",
       "    .dataframe thead th {\n",
       "        text-align: right;\n",
       "    }\n",
       "</style>\n",
       "<table border=\"1\" class=\"dataframe\">\n",
       "  <thead>\n",
       "    <tr style=\"text-align: right;\">\n",
       "      <th></th>\n",
       "      <th>PC1</th>\n",
       "      <th>PC2</th>\n",
       "    </tr>\n",
       "  </thead>\n",
       "  <tbody>\n",
       "    <tr>\n",
       "      <th>X1</th>\n",
       "      <td>0.437234</td>\n",
       "      <td>0.500816</td>\n",
       "    </tr>\n",
       "    <tr>\n",
       "      <th>X5</th>\n",
       "      <td>0.824708</td>\n",
       "      <td>-0.554503</td>\n",
       "    </tr>\n",
       "    <tr>\n",
       "      <th>X12</th>\n",
       "      <td>0.164544</td>\n",
       "      <td>0.302391</td>\n",
       "    </tr>\n",
       "    <tr>\n",
       "      <th>X13</th>\n",
       "      <td>0.171193</td>\n",
       "      <td>0.318066</td>\n",
       "    </tr>\n",
       "    <tr>\n",
       "      <th>X14</th>\n",
       "      <td>0.096055</td>\n",
       "      <td>0.178208</td>\n",
       "    </tr>\n",
       "    <tr>\n",
       "      <th>X15</th>\n",
       "      <td>0.154545</td>\n",
       "      <td>0.288691</td>\n",
       "    </tr>\n",
       "    <tr>\n",
       "      <th>X16</th>\n",
       "      <td>0.152013</td>\n",
       "      <td>0.284822</td>\n",
       "    </tr>\n",
       "    <tr>\n",
       "      <th>X17</th>\n",
       "      <td>0.112540</td>\n",
       "      <td>0.210894</td>\n",
       "    </tr>\n",
       "    <tr>\n",
       "      <th>X18</th>\n",
       "      <td>0.018288</td>\n",
       "      <td>0.028957</td>\n",
       "    </tr>\n",
       "    <tr>\n",
       "      <th>X19</th>\n",
       "      <td>0.010888</td>\n",
       "      <td>0.016698</td>\n",
       "    </tr>\n",
       "    <tr>\n",
       "      <th>X20</th>\n",
       "      <td>0.019443</td>\n",
       "      <td>0.029608</td>\n",
       "    </tr>\n",
       "    <tr>\n",
       "      <th>X21</th>\n",
       "      <td>0.022729</td>\n",
       "      <td>0.036062</td>\n",
       "    </tr>\n",
       "    <tr>\n",
       "      <th>X22</th>\n",
       "      <td>0.033595</td>\n",
       "      <td>0.052344</td>\n",
       "    </tr>\n",
       "    <tr>\n",
       "      <th>X23</th>\n",
       "      <td>0.030667</td>\n",
       "      <td>0.048678</td>\n",
       "    </tr>\n",
       "  </tbody>\n",
       "</table>\n",
       "</div>"
      ],
      "text/plain": [
       "          PC1       PC2\n",
       "X1   0.437234  0.500816\n",
       "X5   0.824708 -0.554503\n",
       "X12  0.164544  0.302391\n",
       "X13  0.171193  0.318066\n",
       "X14  0.096055  0.178208\n",
       "X15  0.154545  0.288691\n",
       "X16  0.152013  0.284822\n",
       "X17  0.112540  0.210894\n",
       "X18  0.018288  0.028957\n",
       "X19  0.010888  0.016698\n",
       "X20  0.019443  0.029608\n",
       "X21  0.022729  0.036062\n",
       "X22  0.033595  0.052344\n",
       "X23  0.030667  0.048678"
      ]
     },
     "execution_count": 222,
     "metadata": {},
     "output_type": "execute_result"
    }
   ],
   "source": [
    "# Composición de los componentes principales\n",
    "pcsminmaxComponents_df = pd.DataFrame(pca_minmax.components_.transpose(), \n",
    "                                columns=pcsSummary_df_minmax.columns,\n",
    "                                index=scaled_df_minmax.iloc[:,0:].columns\n",
    "                                )\n",
    "pcsminmaxComponents_df.iloc[:,:2]"
   ]
  },
  {
   "cell_type": "code",
   "execution_count": 223,
   "metadata": {
    "colab": {
     "base_uri": "https://localhost:8080/"
    },
    "id": "Q4DVY_KJwGNU",
    "outputId": "7c1d697a-79d7-447b-c6e7-950ab1064e9b"
   },
   "outputs": [
    {
     "data": {
      "text/plain": [
       "[('PC1',\n",
       "  X5     0.824708\n",
       "  X1     0.437234\n",
       "  X13    0.171193\n",
       "  X12    0.164544\n",
       "  X15    0.154545\n",
       "  Name: PC1, dtype: float64),\n",
       " ('PC2',\n",
       "  X5    -0.554503\n",
       "  X1     0.500816\n",
       "  X13    0.318066\n",
       "  X12    0.302391\n",
       "  X15    0.288691\n",
       "  Name: PC2, dtype: float64)]"
      ]
     },
     "execution_count": 223,
     "metadata": {},
     "output_type": "execute_result"
    }
   ],
   "source": [
    "# Principales variables que componen los primeros 3 componentes principales\n",
    "[(item,pcsminmaxComponents_df.sort_values(by=item, key=abs, ascending=False)[item][0:5]) for item in ['PC1','PC2']]"
   ]
  },
  {
   "cell_type": "markdown",
   "metadata": {
    "id": "_-z4i-HzKc4U"
   },
   "source": [
    "# Observaciones\n",
    "\n",
    "* Como se menciono en la sección anterior, esta tabla es un resumen de la tabla anterior. En ella podemos observar las variables originales que conforman los primeros 2 componentes.\n",
    "\n",
    "* Por ejemplo, PC1 y PC2 estan compuestos principalmente de la variables X5, X1, X13, X12 y X15.  \n",
    "* Esto nos dice que las variables que más contribuyen y explican la variación (y por tanto los 2 componente principales) son edad, monto de credito y monto a pagar en los primero dos meses."
   ]
  },
  {
   "cell_type": "markdown",
   "metadata": {},
   "source": [
    "# 8\n",
    "* Elabora los histogramas de los atributos para visualizar su distribución"
   ]
  },
  {
   "cell_type": "code",
   "execution_count": 224,
   "metadata": {},
   "outputs": [],
   "source": [
    "column_name_dict={\"X5\":\"Age\",\"X1\":\"Credit Amount\",\"X13\":\"bill amount statement Aug\",\"X12\":\"bill amount statement Sept\"}"
   ]
  },
  {
   "cell_type": "code",
   "execution_count": 225,
   "metadata": {},
   "outputs": [
    {
     "data": {
      "text/plain": [
       "{'X5': 'Age',\n",
       " 'X1': 'Credit Amount',\n",
       " 'X13': 'bill amount statement Aug',\n",
       " 'X12': 'bill amount statement Sept'}"
      ]
     },
     "execution_count": 225,
     "metadata": {},
     "output_type": "execute_result"
    }
   ],
   "source": [
    "column_name_dict"
   ]
  },
  {
   "cell_type": "code",
   "execution_count": 226,
   "metadata": {},
   "outputs": [],
   "source": [
    "scaled_df_minmax.rename(columns=column_name_dict,inplace=True)"
   ]
  },
  {
   "cell_type": "code",
   "execution_count": 227,
   "metadata": {},
   "outputs": [
    {
     "data": {
      "image/png": "[encoded data removed]",
      "text/plain": [
       "<Figure size 864x864 with 4 Axes>"
      ]
     },
     "metadata": {},
     "output_type": "display_data"
    }
   ],
   "source": [
    "scaled_df_minmax[[\"Age\",\"Credit Amount\",\"bill amount statement Aug\",\"bill amount statement Sept\"]].hist(bins=10);\n",
    "plt.tight_layout();"
   ]
  },
  {
   "cell_type": "markdown",
   "metadata": {},
   "source": [
    "# 9\n",
    "* Realiza la visualización de los datos usando por lo menos 3 gráficos que consideres adecuados: plot, scatter, jointplot, boxplot, areaplot, pie chart, pairplot, bar chart, etc.\n"
   ]
  },
  {
   "cell_type": "code",
   "execution_count": 228,
   "metadata": {
    "colab": {
     "base_uri": "https://localhost:8080/",
     "height": 469
    },
    "id": "ELoE3ESPwGNV",
    "outputId": "2fd37a56-bd9d-4eb2-9f96-5ee3f57b22b1"
   },
   "outputs": [
    {
     "data": {
      "image/png": "[encoded data removed]",
      "text/plain": [
       "<Figure size 720x504 with 1 Axes>"
      ]
     },
     "metadata": {},
     "output_type": "display_data"
    }
   ],
   "source": [
    "PC_components = np.arange(pca_minmax.n_components_) + 1\n",
    "#PC_components\n",
    "\n",
    "# Gráfico Scree\n",
    "_ = sns.set(style = 'whitegrid', \n",
    "            font_scale = 1.2\n",
    "            )\n",
    "\n",
    "fig, ax = plt.subplots(figsize=(10, 7))\n",
    "\n",
    "_ = sns.barplot(x = PC_components, \n",
    "                y = pca_minmax.explained_variance_ratio_, \n",
    "                color = 'b'\n",
    "                )\n",
    "\n",
    "_ = sns.lineplot(x = PC_components-1, \n",
    "                 y = np.cumsum(pca_minmax.explained_variance_ratio_), \n",
    "                 color = 'black', \n",
    "                 linestyle = '-', \n",
    "                 linewidth = 2, \n",
    "                 marker = 'o', \n",
    "                 markersize = 8\n",
    "                 )\n",
    "\n",
    "plt.title('Gráfico Scree')\n",
    "plt.xlabel('N-ésimo Componente Principal')\n",
    "plt.ylabel('Varianza explicada')\n",
    "plt.ylim(0, 1)\n",
    "plt.show()"
   ]
  },
  {
   "cell_type": "markdown",
   "metadata": {
    "id": "qigj58uNwGNV"
   },
   "source": [
    "# Observaciones grafica de screed\n",
    "\n",
    "* En la gráfica Scree notamos claramente el \"codo\" en el componente 3, lo cual concuerda con el número de componente que habíamos seleccionado.\n",
    "* Usar minmaxscaler al parecer ayuda a mejorar la captura de mayor variación en menos componentes. \n",
    "* Tambien las variables que contribuyen a estos componentes son mas congruentes tal como edad, monto credito y monto a pagar en los primeros 2 meses.\n"
   ]
  },
  {
   "cell_type": "code",
   "execution_count": 229,
   "metadata": {
    "scrolled": true
   },
   "outputs": [
    {
     "data": {
      "image/png": "[encoded data removed]",
      "text/plain": [
       "<Figure size 1008x576 with 2 Axes>"
      ]
     },
     "metadata": {},
     "output_type": "display_data"
    }
   ],
   "source": [
    "# Crea gráfico de correleción con codigo de colores\n",
    "sns.set(rc = {'figure.figsize':(14,8)})\n",
    "sns.heatmap(scaled_df_minmax[[\"Age\",\"Credit Amount\",\"bill amount statement Aug\",\"bill amount statement Sept\"]].corr(), vmin = -1, vmax = 1, cmap = \"crest\", annot= True);"
   ]
  },
  {
   "cell_type": "markdown",
   "metadata": {},
   "source": [
    "## En este grafico observamos las correlaciones entre estas variables, las cuales fueron las que mas contribuyeron a conformar los 2 principales componentes de este conjunto de datos\n"
   ]
  },
  {
   "cell_type": "code",
   "execution_count": 230,
   "metadata": {},
   "outputs": [],
   "source": [
    "scaled_df_minmax['Y']=var_resp.values"
   ]
  },
  {
   "cell_type": "code",
   "execution_count": 236,
   "metadata": {},
   "outputs": [
    {
     "data": {
      "image/png": "[encoded data removed]",
      "text/plain": [
       "<Figure size 432x432 with 3 Axes>"
      ]
     },
     "metadata": {},
     "output_type": "display_data"
    }
   ],
   "source": [
    "import seaborn as sns\n",
    "sns.set_theme(style=\"ticks\")\n",
    "g = sns.jointplot(\n",
    "    data=scaled_df_minmax,\n",
    "    x=\"Age\", y=\"Credit Amount\", hue=\"Y\",\n",
    "    kind=\"hist\",\n",
    ")"
   ]
  },
  {
   "cell_type": "markdown",
   "metadata": {},
   "source": [
    "# Observaciones\n",
    "* En esta grafica observamos la distribución de las variables edad y Monto de credito. Color Azul indica que cumplio pago"
   ]
  },
  {
   "cell_type": "code",
   "execution_count": null,
   "metadata": {},
   "outputs": [],
   "source": []
  }
 ],
 "metadata": {
  "colab": {
   "provenance": []
  },
  "kernelspec": {
   "display_name": "Python 3",
   "language": "python",
   "name": "python3"
  },
  "language_info": {
   "codemirror_mode": {
    "name": "ipython",
    "version": 3
   },
   "file_extension": ".py",
   "mimetype": "text/x-python",
   "name": "python",
   "nbconvert_exporter": "python",
   "pygments_lexer": "ipython3",
   "version": "3.7.4"
  }
 },
 "nbformat": 4,
 "nbformat_minor": 1
}
